{
 "cells": [
  {
   "cell_type": "markdown",
   "id": "87c5194c",
   "metadata": {},
   "source": [
    "# Importar librerías\n",
    "\n",
    "- Astropy\n",
    "- pandas\n",
    "- numpy\n"
   ]
  },
  {
   "cell_type": "code",
   "execution_count": 1,
   "id": "397a542c-576e-465a-a030-62db5e847f05",
   "metadata": {},
   "outputs": [],
   "source": [
    "import lmfit"
   ]
  },
  {
   "cell_type": "code",
   "execution_count": 2,
   "id": "d4aba9ed",
   "metadata": {},
   "outputs": [],
   "source": [
    "from astropy.io import fits\n",
    "import numpy as np\n",
    "import datetime\n",
    "import pandas as pd\n",
    "import glob #para linux\n",
    "from glob import os #para windows\n",
    "import matplotlib.pyplot as plt\n",
    "import subprocess\n",
    "from astropy.visualization import (HistEqStretch, \n",
    "                                   simple_norm, \n",
    "                                   ImageNormalize, \n",
    "                                   imshow_norm, \n",
    "                                   MinMaxInterval, \n",
    "                                   LogStretch)\n",
    "from sklearn import preprocessing\n",
    "import matplotlib.animation as animation\n",
    "from scipy import ndimage, misc, interpolate\n",
    "from scipy.optimize import curve_fit\n",
    "#librerias para iterar colores xd\n",
    "from pandas.plotting import register_matplotlib_converters\n",
    "register_matplotlib_converters()\n",
    "import matplotlib.cm as mplcm\n",
    "import matplotlib.colors as colors\n",
    "#dar formato a las fechas en formato datatime\n",
    "from matplotlib import dates as mpl_dates\n",
    "%matplotlib inline"
   ]
  },
  {
   "cell_type": "code",
   "execution_count": 3,
   "id": "4b680b49",
   "metadata": {},
   "outputs": [
    {
     "name": "stdout",
     "output_type": "stream",
     "text": [
      "\n",
      "Existen 46 archivos fts\n"
     ]
    }
   ],
   "source": [
    "pathToFiles = 'DATA'\n",
    "orderedList = sorted(glob.glob(os.path.join(pathToFiles, '*.fts')))\n",
    "contador=0\n",
    "for filename in orderedList:\n",
    "    contador+=1\n",
    "print(\"\\nExisten {} archivos fts\".format(contador))"
   ]
  },
  {
   "cell_type": "code",
   "execution_count": 4,
   "id": "396d1bcc",
   "metadata": {},
   "outputs": [
    {
     "name": "stdout",
     "output_type": "stream",
     "text": [
      "\n",
      "De los cuales 45 son  de tamaño 2048 x 2048\n"
     ]
    }
   ],
   "source": [
    "# Obtener lista de datos que son 2048x2048\n",
    "listaDatos = []\n",
    "for filename in orderedList:\n",
    "  hdulist = fits.open(filename)\n",
    "  data = hdulist[0].data\n",
    "  hdulist.close\n",
    "  if data.shape == (2048, 2048):\n",
    "    listaDatos.append(filename)\n",
    "print(\"\\nDe los cuales {} son  de tamaño 2048 x 2048\".format(len(listaDatos)))\n"
   ]
  },
  {
   "cell_type": "code",
   "execution_count": 5,
   "id": "d6a6c98f",
   "metadata": {},
   "outputs": [
    {
     "data": {
      "text/html": [
       "<div>\n",
       "<style scoped>\n",
       "    .dataframe tbody tr th:only-of-type {\n",
       "        vertical-align: middle;\n",
       "    }\n",
       "\n",
       "    .dataframe tbody tr th {\n",
       "        vertical-align: top;\n",
       "    }\n",
       "\n",
       "    .dataframe thead th {\n",
       "        text-align: right;\n",
       "    }\n",
       "</style>\n",
       "<table border=\"1\" class=\"dataframe\">\n",
       "  <thead>\n",
       "    <tr style=\"text-align: right;\">\n",
       "      <th></th>\n",
       "      <th>SIMPLE</th>\n",
       "      <th>BITPIX</th>\n",
       "      <th>NAXIS</th>\n",
       "      <th>NAXIS1</th>\n",
       "      <th>NAXIS2</th>\n",
       "      <th>EXTEND</th>\n",
       "      <th>DATE-OBS</th>\n",
       "      <th>FILEORIG</th>\n",
       "      <th>SEB_PROG</th>\n",
       "      <th>SYNC</th>\n",
       "      <th>...</th>\n",
       "      <th>FPSDAS3</th>\n",
       "      <th>FPSDAQ1</th>\n",
       "      <th>FPSDAQ2</th>\n",
       "      <th>FPSDAQ3</th>\n",
       "      <th>DATAMDN</th>\n",
       "      <th>HISTORY</th>\n",
       "      <th>HISTORY</th>\n",
       "      <th>HISTORY</th>\n",
       "      <th>HISTORY</th>\n",
       "      <th>HISTORY</th>\n",
       "    </tr>\n",
       "  </thead>\n",
       "  <tbody>\n",
       "  </tbody>\n",
       "</table>\n",
       "<p>0 rows × 253 columns</p>\n",
       "</div>"
      ],
      "text/plain": [
       "Empty DataFrame\n",
       "Columns: [SIMPLE, BITPIX, NAXIS, NAXIS1, NAXIS2, EXTEND, DATE-OBS, FILEORIG, SEB_PROG, SYNC, SPWX, EXPCMD, EXPTIME, DSTART1, DSTOP1, DSTART2, DSTOP2, P1COL, P2COL, P1ROW, P2ROW, R1COL, R2COL, R1ROW, R2ROW, RECTIFY, RECTROTA, LEDCOLOR, LEDPULSE, OFFSET, BIASMEAN, BIASSDEV, GAINCMD, GAINMODE, SUMMED, SUMROW, SUMCOL, CEB_T, TEMP_CCD, POLAR, ENCODERP, WAVELNTH, ENCODERQ, FILTER, ENCODERF, FPS_ON, OBS_PROG, DOORSTAT, SHUTTDIR, READ_TBL, CLR_TBL, READFILE, DATE-CLR, DATE-RO, READTIME, CLEARTIM, IP_TIME, COMPRSSN, COMPFACT, NMISSING, MISSLIST, SETUPTBL, EXPOSTBL, MASK_TBL, IP_TBL, COMMENT, COMMENT, COMMENT, COMMENT, COMMENT, COMMENT, HISTORY, HISTORY, HISTORY, HISTORY, DIV2CORR, DISTCORR, TEMPAFT1, TEMPAFT2, TEMPMID1, TEMPMID2, TEMPFWD1, TEMPFWD2, TEMPTHRM, TEMP_CEB, ORIGIN, DETECTOR, IMGCTR, TIMGCTR, OBJECT, FILENAME, DATE, INSTRUME, OBSRVTRY, TELESCOP, WAVEFILE, CCDSUM, IPSUM, DATE-CMD, DATE-AVG, ...]\n",
       "Index: []\n",
       "\n",
       "[0 rows x 253 columns]"
      ]
     },
     "execution_count": 5,
     "metadata": {},
     "output_type": "execute_result"
    }
   ],
   "source": [
    "hdulist1 = fits.open(listaDatos[0])\n",
    "headerList = hdulist1[0].header\n",
    "hdulist1.close()\n",
    "\n",
    "maph=pd.DataFrame(columns=headerList)\n",
    "maph"
   ]
  },
  {
   "cell_type": "code",
   "execution_count": 6,
   "id": "ee9eaad5",
   "metadata": {},
   "outputs": [],
   "source": [
    "cel = []\n",
    "for i in range(len(listaDatos)):\n",
    "    hdulist1 = fits.open(listaDatos[i])\n",
    "    headerList = hdulist1[0].header\n",
    "    hdulist1.close()\n",
    "    for headerInplace in headerList:\n",
    "        cel.append(headerList[headerInplace])\n",
    "    maph.loc[i]=cel\n",
    "    cel=[]\n"
   ]
  },
  {
   "cell_type": "code",
   "execution_count": 7,
   "id": "f1cca9d5",
   "metadata": {},
   "outputs": [
    {
     "data": {
      "text/plain": [
       "6.003693466666666"
      ]
     },
     "execution_count": 7,
     "metadata": {},
     "output_type": "execute_result"
    }
   ],
   "source": [
    "expTime=maph.EXPTIME\n",
    "mExpTime=np.mean(expTime)\n",
    "mExpTime"
   ]
  },
  {
   "cell_type": "code",
   "execution_count": 8,
   "id": "2be7b509",
   "metadata": {},
   "outputs": [
    {
     "data": {
      "text/plain": [
       "7.744819056681542e-06"
      ]
     },
     "execution_count": 8,
     "metadata": {},
     "output_type": "execute_result"
    }
   ],
   "source": [
    "stdExpTime=np.std(maph.EXPTIME)\n",
    "stdExpTime"
   ]
  },
  {
   "cell_type": "code",
   "execution_count": 9,
   "id": "e9a695b2",
   "metadata": {},
   "outputs": [
    {
     "data": {
      "text/plain": [
       "45"
      ]
     },
     "execution_count": 9,
     "metadata": {},
     "output_type": "execute_result"
    }
   ],
   "source": [
    "#maph = maph[(maph.EXPTIME >= (mExpTime - stdExpTime)) & (maph.EXPTIME <= (mExpTime + stdExpTime))]\n",
    "maph = maph[(maph.EXPTIME >= (mExpTime - 1.5)) & (maph.EXPTIME <= (mExpTime + 1.5))]\n",
    "tama = len(maph)\n",
    "tama"
   ]
  },
  {
   "cell_type": "code",
   "execution_count": 10,
   "id": "c0d483a5",
   "metadata": {},
   "outputs": [
    {
     "data": {
      "text/plain": [
       "45"
      ]
     },
     "execution_count": 10,
     "metadata": {},
     "output_type": "execute_result"
    }
   ],
   "source": [
    "listaDatosFiltrados = []\n",
    "for fit_index in maph.index:\n",
    "    listaDatosFiltrados.append(listaDatos[fit_index])\n",
    "len(listaDatosFiltrados)"
   ]
  },
  {
   "cell_type": "code",
   "execution_count": 11,
   "id": "edb154b2",
   "metadata": {},
   "outputs": [],
   "source": [
    "mapa = []\n",
    "for fit in listaDatosFiltrados:\n",
    "    hdulist = fits.open(fit)\n",
    "    datatemp = hdulist[0].data\n",
    "    hdulist.close()\n",
    "    \n",
    "    mapa.append(datatemp)"
   ]
  },
  {
   "cell_type": "code",
   "execution_count": 12,
   "id": "cd80903c",
   "metadata": {},
   "outputs": [],
   "source": [
    "def movingaverage(interval, window_size):\n",
    "    window = np.ones(int(window_size))/float(window_size)\n",
    "    return np.convolve(interval, window, 'same')"
   ]
  },
  {
   "cell_type": "code",
   "execution_count": 13,
   "id": "d9c8e120",
   "metadata": {},
   "outputs": [],
   "source": [
    "map_s = ndimage.uniform_filter(mapa, size=3, mode='reflect')"
   ]
  },
  {
   "cell_type": "code",
   "execution_count": 14,
   "id": "5dc55adf",
   "metadata": {},
   "outputs": [
    {
     "name": "stdout",
     "output_type": "stream",
     "text": [
      "xc = 1027.0\n",
      "yc = 1028.2\n"
     ]
    }
   ],
   "source": [
    "mitad=1 #esto es para elegir el tamaño de la imagen 2 -> 512# 1 -> 1024\n",
    "xc=maph.loc[0].CRPIX1/mitad\n",
    "yc=maph.loc[0].CRPIX2/mitad\n",
    "print(\"xc = {}\".format(xc))\n",
    "print(\"yc = {}\".format(yc))"
   ]
  },
  {
   "cell_type": "code",
   "execution_count": 15,
   "id": "55674f99",
   "metadata": {},
   "outputs": [
    {
     "name": "stdout",
     "output_type": "stream",
     "text": [
      "RSUN existe\n"
     ]
    }
   ],
   "source": [
    "for i in maph:\n",
    "    if i == 'R_SUN':\n",
    "        print(\"R_SUN existe\")\n",
    "    elif i == 'RSUN':\n",
    "        print(\"RSUN existe\")"
   ]
  },
  {
   "cell_type": "code",
   "execution_count": 16,
   "id": "ab856f6a",
   "metadata": {},
   "outputs": [],
   "source": [
    "for header in maph:\n",
    "    if header == 'R_SUN':\n",
    "        r0=maph.loc[0].R_SUN/(maph.loc[0].CDELT1*mitad)\n",
    "    elif header == 'RSUN':\n",
    "        r0=maph.loc[0].RSUN/(maph.loc[0].CDELT1*mitad)\n",
    "\n",
    "r0_20=20.*r0\n",
    "r0_19=19.*r0\n",
    "r0_15=15.*r0\n",
    "r0_10=10.*r0"
   ]
  },
  {
   "cell_type": "code",
   "execution_count": 17,
   "id": "8bc6ed41",
   "metadata": {},
   "outputs": [
    {
     "name": "stdout",
     "output_type": "stream",
     "text": [
      "r0_20 = 1364.4457716190345\n",
      "r0_19 = 1296.2234830380828\n",
      "r0_15 = 1023.3343287142759\n",
      "r0_10 = 682.2228858095173\n"
     ]
    }
   ],
   "source": [
    "print(\"r0_20 = {}\".format(r0_20))\n",
    "print(\"r0_19 = {}\".format(r0_19))\n",
    "print(\"r0_15 = {}\".format(r0_15))\n",
    "print(\"r0_10 = {}\".format(r0_10))"
   ]
  },
  {
   "cell_type": "code",
   "execution_count": 18,
   "id": "3c614fe6",
   "metadata": {},
   "outputs": [
    {
     "data": {
      "text/plain": [
       "0   2018-11-10 10:24:00.005\n",
       "1   2018-11-10 10:54:00.005\n",
       "2   2018-11-10 11:24:00.005\n",
       "3   2018-11-10 11:54:00.005\n",
       "4   2018-11-10 12:24:00.005\n",
       "Name: DATE-OBS, dtype: datetime64[ns]"
      ]
     },
     "execution_count": 18,
     "metadata": {},
     "output_type": "execute_result"
    }
   ],
   "source": [
    "df_tiempo=pd.to_datetime(maph['DATE-OBS'])\n",
    "df_tiempo.head()"
   ]
  },
  {
   "cell_type": "code",
   "execution_count": 19,
   "id": "332c3af6",
   "metadata": {},
   "outputs": [
    {
     "data": {
      "text/html": [
       "<div>\n",
       "<style scoped>\n",
       "    .dataframe tbody tr th:only-of-type {\n",
       "        vertical-align: middle;\n",
       "    }\n",
       "\n",
       "    .dataframe tbody tr th {\n",
       "        vertical-align: top;\n",
       "    }\n",
       "\n",
       "    .dataframe thead th {\n",
       "        text-align: right;\n",
       "    }\n",
       "</style>\n",
       "<table border=\"1\" class=\"dataframe\">\n",
       "  <thead>\n",
       "    <tr style=\"text-align: right;\">\n",
       "      <th></th>\n",
       "      <th>DATE-OBS</th>\n",
       "    </tr>\n",
       "  </thead>\n",
       "  <tbody>\n",
       "    <tr>\n",
       "      <th>0</th>\n",
       "      <td>2018-11-10T10:24:00.005</td>\n",
       "    </tr>\n",
       "    <tr>\n",
       "      <th>1</th>\n",
       "      <td>2018-11-10T10:54:00.005</td>\n",
       "    </tr>\n",
       "    <tr>\n",
       "      <th>2</th>\n",
       "      <td>2018-11-10T11:24:00.005</td>\n",
       "    </tr>\n",
       "    <tr>\n",
       "      <th>3</th>\n",
       "      <td>2018-11-10T11:54:00.005</td>\n",
       "    </tr>\n",
       "    <tr>\n",
       "      <th>4</th>\n",
       "      <td>2018-11-10T12:24:00.005</td>\n",
       "    </tr>\n",
       "  </tbody>\n",
       "</table>\n",
       "</div>"
      ],
      "text/plain": [
       "                  DATE-OBS\n",
       "0  2018-11-10T10:24:00.005\n",
       "1  2018-11-10T10:54:00.005\n",
       "2  2018-11-10T11:24:00.005\n",
       "3  2018-11-10T11:54:00.005\n",
       "4  2018-11-10T12:24:00.005"
      ]
     },
     "execution_count": 19,
     "metadata": {},
     "output_type": "execute_result"
    }
   ],
   "source": [
    "tiempos = [maph['DATE-OBS']]\n",
    "header = [\"DATE-OBS\"]\n",
    "df_tiempo = pd.concat(tiempos, axis = 1, keys = header)\n",
    "df_tiempo.head()"
   ]
  },
  {
   "cell_type": "code",
   "execution_count": 20,
   "id": "25d9f783",
   "metadata": {},
   "outputs": [],
   "source": [
    "tiempos=pd.to_datetime(df_tiempo['DATE-OBS'])\n",
    "t0 = tiempos[0] # Esto fallará si se filtro el FITfile con el indice 0\n",
    "delta = []\n",
    "for celda in tiempos:\n",
    "    delta.append((celda - t0).total_seconds())\n",
    "#delta"
   ]
  },
  {
   "cell_type": "code",
   "execution_count": 21,
   "id": "6b9a8ef9",
   "metadata": {},
   "outputs": [
    {
     "data": {
      "text/html": [
       "<div>\n",
       "<style scoped>\n",
       "    .dataframe tbody tr th:only-of-type {\n",
       "        vertical-align: middle;\n",
       "    }\n",
       "\n",
       "    .dataframe tbody tr th {\n",
       "        vertical-align: top;\n",
       "    }\n",
       "\n",
       "    .dataframe thead th {\n",
       "        text-align: right;\n",
       "    }\n",
       "</style>\n",
       "<table border=\"1\" class=\"dataframe\">\n",
       "  <thead>\n",
       "    <tr style=\"text-align: right;\">\n",
       "      <th></th>\n",
       "      <th>DATE-OBS</th>\n",
       "      <th>SECONDS</th>\n",
       "    </tr>\n",
       "  </thead>\n",
       "  <tbody>\n",
       "    <tr>\n",
       "      <th>0</th>\n",
       "      <td>2018-11-10T10:24:00.005</td>\n",
       "      <td>0.0</td>\n",
       "    </tr>\n",
       "    <tr>\n",
       "      <th>1</th>\n",
       "      <td>2018-11-10T10:54:00.005</td>\n",
       "      <td>1800.0</td>\n",
       "    </tr>\n",
       "    <tr>\n",
       "      <th>2</th>\n",
       "      <td>2018-11-10T11:24:00.005</td>\n",
       "      <td>3600.0</td>\n",
       "    </tr>\n",
       "    <tr>\n",
       "      <th>3</th>\n",
       "      <td>2018-11-10T11:54:00.005</td>\n",
       "      <td>5400.0</td>\n",
       "    </tr>\n",
       "    <tr>\n",
       "      <th>4</th>\n",
       "      <td>2018-11-10T12:24:00.005</td>\n",
       "      <td>7200.0</td>\n",
       "    </tr>\n",
       "  </tbody>\n",
       "</table>\n",
       "</div>"
      ],
      "text/plain": [
       "                  DATE-OBS  SECONDS\n",
       "0  2018-11-10T10:24:00.005      0.0\n",
       "1  2018-11-10T10:54:00.005   1800.0\n",
       "2  2018-11-10T11:24:00.005   3600.0\n",
       "3  2018-11-10T11:54:00.005   5400.0\n",
       "4  2018-11-10T12:24:00.005   7200.0"
      ]
     },
     "execution_count": 21,
     "metadata": {},
     "output_type": "execute_result"
    }
   ],
   "source": [
    "df_tiempo['SECONDS'] = delta\n",
    "df_tiempo.head()"
   ]
  },
  {
   "cell_type": "code",
   "execution_count": 22,
   "id": "05af1a7a",
   "metadata": {},
   "outputs": [
    {
     "data": {
      "text/plain": [
       "14.6999998093"
      ]
     },
     "execution_count": 22,
     "metadata": {},
     "output_type": "execute_result"
    }
   ],
   "source": [
    "dx = maph.loc[0]['CDELT1']*1\n",
    "dx"
   ]
  },
  {
   "cell_type": "code",
   "execution_count": 23,
   "id": "6c1b963f",
   "metadata": {},
   "outputs": [
    {
     "name": "stdout",
     "output_type": "stream",
     "text": [
      "centro = 1027.0, 1028.2\n"
     ]
    }
   ],
   "source": [
    "#angulo=79.0\n",
    "n_puntos=100\n",
    "ang_inc=3.0\n",
    "#ang_inc=0.5\n",
    "print('centro = {}, {}'.format(xc,yc))"
   ]
  },
  {
   "cell_type": "code",
   "execution_count": 24,
   "id": "016598a7",
   "metadata": {},
   "outputs": [
    {
     "data": {
      "text/plain": [
       "3"
      ]
     },
     "execution_count": 24,
     "metadata": {},
     "output_type": "execute_result"
    }
   ],
   "source": [
    "if maph.loc[0].DETECTOR == 'COR2': #para stereo\n",
    "    rrin=3\n",
    "    rrfin=15\n",
    "else:\n",
    "    rrin=6\n",
    "    rrfin=15\n",
    "rrin"
   ]
  },
  {
   "cell_type": "code",
   "execution_count": 25,
   "id": "ae732c21",
   "metadata": {},
   "outputs": [],
   "source": [
    "def setAngle(angulo, ang_inc, gap):\n",
    "    gap_angle = np.arange(gap*(-1),gap+1)\n",
    "    rr=rrt=np.zeros((1+gap*2,2,n_puntos),dtype=int)\n",
    "    PA_m = angulo + 90\n",
    "    rsol = r0\n",
    "    index = np.arange(100)\n",
    "    rads = np.linspace(rrin,rrfin,100)\n",
    "    radios = np.zeros(n_puntos)\n",
    "    for j in gap_angle:\n",
    "        for i in index:\n",
    "            rd = rads[i]\n",
    "            radios[i] = rd\n",
    "            radio=rsol * rd\n",
    "            teta = (PA_m + ang_inc * j)*np.pi/180\n",
    "            x = radio * np.cos(teta) + xc\n",
    "            y = radio * np.sin(teta) + yc\n",
    "            if x < 0 or y < 0:\n",
    "                print(i, x, y)\n",
    "            rr[j+gap][0][i]=x\n",
    "            rr[j+gap][1][i]=y\n",
    "    return rr"
   ]
  },
  {
   "cell_type": "code",
   "execution_count": 26,
   "id": "e77d89b1",
   "metadata": {},
   "outputs": [
    {
     "name": "stdout",
     "output_type": "stream",
     "text": [
      "(11, 2, 100)\n"
     ]
    }
   ],
   "source": [
    "#rr = setAngle(79,0.5,5)\n",
    "rr = setAngle(80,3,5)\n",
    "print(rr.shape)"
   ]
  },
  {
   "cell_type": "code",
   "execution_count": 27,
   "id": "0c39a369",
   "metadata": {},
   "outputs": [],
   "source": [
    "#librerias para iterar colores xd\n",
    "from pandas.plotting import register_matplotlib_converters\n",
    "register_matplotlib_converters()\n",
    "import matplotlib.cm as mplcm\n",
    "import matplotlib.colors as colors\n",
    "#dar formato a las fechas en formato datatime\n",
    "from matplotlib import dates as mpl_dates"
   ]
  },
  {
   "cell_type": "code",
   "execution_count": 28,
   "id": "ca0411f1",
   "metadata": {},
   "outputs": [
    {
     "data": {
      "text/plain": [
       "0.014583333333333334"
      ]
     },
     "execution_count": 28,
     "metadata": {},
     "output_type": "execute_result"
    }
   ],
   "source": [
    "rSolarcsec=32*60\n",
    "disterr=56./1920./2. ##mitad de la minima escala en Rs para LASCO C3\n",
    "#if maph[0.DETECTOR eq 'COR2' then disterr= maph(0).CDELT1/rSolarcsec/2. ##mitad de la minima escala en Rs\n",
    "disterr"
   ]
  },
  {
   "cell_type": "code",
   "execution_count": 29,
   "id": "6733552f",
   "metadata": {},
   "outputs": [
    {
     "data": {
      "text/plain": [
       "0.0038281249503385414"
      ]
     },
     "execution_count": 29,
     "metadata": {},
     "output_type": "execute_result"
    }
   ],
   "source": [
    "if (maph['DETECTOR'][0] == 'COR2'):\n",
    "    disterr = maph['CDELT1'][0]/rSolarcsec/2\n",
    "disterr"
   ]
  },
  {
   "cell_type": "code",
   "execution_count": 30,
   "id": "63dccffe",
   "metadata": {},
   "outputs": [],
   "source": [
    "radios = np.linspace(rrin,rrfin,100)\n",
    "#radios"
   ]
  },
  {
   "cell_type": "code",
   "execution_count": 31,
   "id": "006d5b0c",
   "metadata": {},
   "outputs": [],
   "source": [
    "derr = disterr*radios**2\n",
    "#derr"
   ]
  },
  {
   "cell_type": "code",
   "execution_count": 32,
   "id": "61c34ed1",
   "metadata": {},
   "outputs": [],
   "source": [
    "def fltarr(a,b,c):\n",
    "    \"\"\"\n",
    "    FLTARR(a, b, c)    -> np.zeros((c, b, a))\n",
    "    \"\"\"        \n",
    "    return np.zeros((c,b,a))"
   ]
  },
  {
   "cell_type": "code",
   "execution_count": 33,
   "id": "07544770",
   "metadata": {},
   "outputs": [],
   "source": [
    "#output_idl=fltarr(n_puntos,rr.shape[0],tama) ## con el cambio en la dir radial\n",
    "output_py=fltarr(n_puntos,rr.shape[0],tama) ## con el cambio en la dir radial"
   ]
  },
  {
   "cell_type": "markdown",
   "id": "87eb23ee",
   "metadata": {},
   "source": [
    "## Codigo en IDL para rellenar output\n",
    "```idl\n",
    "for j=0,tama-1 do for k=0,10 do for i=0, n_puntos-1 do $\n",
    "output(i,k,j) = ( s(rr(i,0,k), rr(i,1,k), j) )\n",
    "```"
   ]
  },
  {
   "cell_type": "markdown",
   "id": "37c1f6af-144b-4c76-9ff7-7202157b219d",
   "metadata": {},
   "source": [
    "---\n",
    "---\n",
    "\n",
    "## Output python\n",
    "Esto contiene el valor de brillo de nuestro cono, son:\n",
    "- Datos sacados de 45 __imagenes__ \n",
    "- de las cuales se obtienen 11 __direcciones radiales__ (pueden ser mas o menos de 11)\n",
    "- dibujados con 100 __puntos__ cada dirección\n",
    "\n",
    " \n",
    " ```python\n",
    "for i in range(tama):\n",
    "    for j in range(rr.shape[0]):\n",
    "        for k in range(100):\n",
    "            #output[i][j][k]    = map_s[    i ][rr[j,1,k]][rr[j,0,k]]\n",
    "            output_idl[i][j][k] = s_idl[str(i)][rr[j,1,k]][rr[j,0,k]]\n",
    "```\n",
    "---\n",
    "---"
   ]
  },
  {
   "cell_type": "code",
   "execution_count": 34,
   "id": "aeb3617f",
   "metadata": {},
   "outputs": [
    {
     "data": {
      "text/plain": [
       "(11, 2, 100)"
      ]
     },
     "execution_count": 34,
     "metadata": {},
     "output_type": "execute_result"
    }
   ],
   "source": [
    "rr.shape"
   ]
  },
  {
   "cell_type": "code",
   "execution_count": 35,
   "id": "8ef2b772",
   "metadata": {},
   "outputs": [],
   "source": [
    "for i in range(tama):\n",
    "    for j in range(rr.shape[0]):\n",
    "        for k in range(100):\n",
    "            output_py[i][j][k]  = map_s[     i  ][ rr[j,1,k] ][ rr[j,0,k] ]\n",
    "            #output_idl[i][j][k] = s_idl[ str(i) ][ rr[j,1,k] ][ rr[j,0,k] ]"
   ]
  },
  {
   "cell_type": "code",
   "execution_count": 36,
   "id": "a4b83171",
   "metadata": {},
   "outputs": [
    {
     "data": {
      "text/plain": [
       "array([31, 32, 33, 34, 35, 36, 37, 38, 39, 40, 41, 42, 43])"
      ]
     },
     "execution_count": 36,
     "metadata": {},
     "output_type": "execute_result"
    }
   ],
   "source": [
    "indtbkg = np.arange(31,44)\n",
    "indtbkg"
   ]
  },
  {
   "cell_type": "code",
   "execution_count": 37,
   "id": "1ab35448",
   "metadata": {},
   "outputs": [],
   "source": [
    "def salidaCono():\n",
    "    global output\n",
    "    output=fltarr(n_puntos,rr.shape[0],tama)\n",
    "    for i in range(tama):\n",
    "        for j in range(rr.shape[0]):\n",
    "            for k in range(100):\n",
    "                output[i][j][k]  = map_s[     i  ][ rr[j,1,k] ][ rr[j,0,k] ]"
   ]
  },
  {
   "cell_type": "code",
   "execution_count": 38,
   "id": "dc8a0b06",
   "metadata": {},
   "outputs": [],
   "source": [
    "def backgroundError():\n",
    "    global den_bg_er, den_bgs_er\n",
    "    den_bg_er  = np.zeros((n_puntos,2))\n",
    "    den_bgs_er = np.zeros((n_puntos,2))\n",
    "    for i in range (n_puntos):\n",
    "        den_bg_er[i][0] = np.mean(output.T[i])\n",
    "        den_bg_er[i][1] = np.std( output.T[i])\n",
    "        den_bgs_er[i][0] = np.mean(output[min(indtbkg):max(indtbkg)].T[i])\n",
    "        den_bgs_er[i][1] = np.std( output[min(indtbkg):max(indtbkg)].T[i])"
   ]
  },
  {
   "cell_type": "code",
   "execution_count": 39,
   "id": "be87bdc1",
   "metadata": {},
   "outputs": [],
   "source": [
    "den_bg_er_py = np.zeros((100,2))"
   ]
  },
  {
   "cell_type": "code",
   "execution_count": 40,
   "id": "c5642be6",
   "metadata": {},
   "outputs": [],
   "source": [
    "for i in range(n_puntos):\n",
    "    den_bg_er_py[i][0] = np.mean(output_py.T[i])\n",
    "    den_bg_er_py[i][1] = np.std(output_py.T[i])"
   ]
  },
  {
   "cell_type": "code",
   "execution_count": 41,
   "id": "9fe0b291",
   "metadata": {},
   "outputs": [
    {
     "data": {
      "text/plain": [
       "(100, 11, 45)"
      ]
     },
     "execution_count": 41,
     "metadata": {},
     "output_type": "execute_result"
    }
   ],
   "source": [
    "output_py.T.shape"
   ]
  },
  {
   "cell_type": "code",
   "execution_count": 42,
   "id": "1cc86c45",
   "metadata": {
    "tags": []
   },
   "outputs": [],
   "source": [
    "den_bgs_er=np.zeros((n_puntos,2))  #la den y el sigma de la den del background\n",
    "for i in range(n_puntos):\n",
    "    #den_bgs_er[i][0] = np.mean(output_py.T[i][:][min(indtbkg):max(indtbkg)])\n",
    "    #den_bgs_er[i][1] = np.std( output_py.T[i][:][min(indtbkg):max(indtbkg)])\n",
    "    den_bgs_er[i][0] = np.mean(output_py[ min(indtbkg):max(indtbkg) ].T[ i ])\n",
    "    den_bgs_er[i][1] = np.std( output_py[ min(indtbkg):max(indtbkg) ].T[ i ])\n",
    "#den_bgs_er"
   ]
  },
  {
   "cell_type": "code",
   "execution_count": 43,
   "id": "35cce807",
   "metadata": {
    "tags": []
   },
   "outputs": [
    {
     "data": {
      "text/plain": [
       "(100, 2)"
      ]
     },
     "execution_count": 43,
     "metadata": {},
     "output_type": "execute_result"
    }
   ],
   "source": [
    "den_bgs_er.shape"
   ]
  },
  {
   "cell_type": "markdown",
   "id": "8f824ab5",
   "metadata": {
    "tags": []
   },
   "source": [
    "# Modo interactivo"
   ]
  },
  {
   "cell_type": "code",
   "execution_count": 44,
   "id": "92113a2a",
   "metadata": {},
   "outputs": [],
   "source": [
    "from __future__ import print_function\n",
    "from ipywidgets import interact, interactive, fixed, interact_manual\n",
    "import ipywidgets as widgets"
   ]
  },
  {
   "cell_type": "code",
   "execution_count": 45,
   "id": "e15679b5",
   "metadata": {},
   "outputs": [
    {
     "data": {
      "application/vnd.jupyter.widget-view+json": {
       "model_id": "36ec75d06184415cb72b635ffeddd6a4",
       "version_major": 2,
       "version_minor": 0
      },
      "text/plain": [
       "IntSlider(value=0)"
      ]
     },
     "metadata": {},
     "output_type": "display_data"
    }
   ],
   "source": [
    "widgets.IntSlider()"
   ]
  },
  {
   "cell_type": "code",
   "execution_count": 46,
   "id": "931f164b",
   "metadata": {},
   "outputs": [
    {
     "data": {
      "application/vnd.jupyter.widget-view+json": {
       "model_id": "817998590e0f44f790124ae3bb0e444f",
       "version_major": 2,
       "version_minor": 0
      },
      "text/plain": [
       "interactive(children=(FloatSlider(value=80.0, description='pa', max=360.0, step=0.5), FloatSlider(value=3.0, d…"
      ]
     },
     "metadata": {},
     "output_type": "display_data"
    },
    {
     "data": {
      "text/plain": [
       "<function __main__.direcciones(pa, delta, imagen)>"
      ]
     },
     "execution_count": 46,
     "metadata": {},
     "output_type": "execute_result"
    }
   ],
   "source": [
    "def direcciones(pa,delta,imagen):\n",
    "    global rr \n",
    "    rr = setAngle(pa,delta,5)\n",
    "    salidaCono()\n",
    "    backgroundError()\n",
    "    radios = np.linspace(3,15,100)\n",
    "    fig = plt.figure(figsize = (18,6))\n",
    "    ax = fig.add_subplot(1, 1, 1)\n",
    "    dic_radios={}\n",
    "    NUM_COLORS = len(rr)\n",
    "    cm = plt.get_cmap('seismic')\n",
    "    cNorm  = colors.Normalize(vmin=0, vmax=NUM_COLORS-1)\n",
    "    scalarMap = mplcm.ScalarMappable(norm=cNorm, cmap=cm)\n",
    "\n",
    "    for radio in range(len(rr)):\n",
    "        valorRadioCentral = np.array([])\n",
    "        for indice in range(len(listaDatosFiltrados)):\n",
    "            mapa_temp = map_s[indice]\n",
    "            valorRadioCentral = np.append(valorRadioCentral,\n",
    "                                          [mapa_temp[ rr[radio,1,0], rr[radio,0,0] ]] )\n",
    "        brilloProm = np.mean(valorRadioCentral)\n",
    "        valorRadioCentral = valorRadioCentral - brilloProm\n",
    "\n",
    "        dic_radios[\"radio_No.%s\" %radio]=valorRadioCentral\n",
    "        ax.set_prop_cycle(color=[scalarMap.to_rgba(radio)])\n",
    "    \n",
    "        #graficar\n",
    "        #ax.plot_date(df_tiempo['DATE-OBS'],   \n",
    "        ax.plot_date(tiempos,   \n",
    "                     dic_radios[\"radio_No.%s\" %radio], \n",
    "                     linestyle='solid',\n",
    "                     label='Radio %s' %radio)\n",
    "        #plt.xticks(rotation=45,\n",
    "        #           ha='right')\n",
    "        plt.ylim([-80,90])\n",
    "\n",
    "    #iteración de colores\n",
    "    ax.grid(color = \"#242326\")\n",
    "    ax.legend(ncol=2)\n",
    "    ax.set_facecolor('#2f2f2f')\n",
    "    plt.ylabel(\"Brillo - $\\mu_{brillo}$\")\n",
    "    date_format = mpl_dates.DateFormatter('%H:%M \\n%d-%b-%Y')\n",
    "    plt.gca().xaxis.set_major_formatter(date_format)\n",
    "    \n",
    "    ax1 = fig.add_subplot(2, 5, 4)\n",
    "    #datatemp_dif = map_s[30] - map_s[29]\n",
    "    datatemp_dif = map_s[imagen] - map_s[imagen-1]\n",
    "    normalized_data = preprocessing.normalize(datatemp_dif, norm=\"max\")\n",
    "    im,norm = imshow_norm(normalized_data, \n",
    "                       ax1, \n",
    "                       origin='lower',\n",
    "                       cmap='gray')\n",
    "\n",
    "    for j in np.arange(len(rr)):\n",
    "        ax1.set_prop_cycle(color=[scalarMap.to_rgba(j)])\n",
    "        ax1.plot(rr[j,0,:],rr[j,1,:], \":\")\n",
    "    #fig.colorbar(im)\n",
    "    #ax1.get_xaxis().set_visible(False)\n",
    "    #ax1.get_yaxis().set_visible(False)\n",
    "    plt.show()\n",
    "\n",
    "interact(direcciones,\n",
    "         pa    = widgets.FloatSlider(min=0,max=360,step=0.5, value=80),\n",
    "         #delta = widgets.IntSlider(min=0,max=5,step=1, value=3),\n",
    "         delta = widgets.FloatSlider(min=0.0,max=5.0,step=0.2, value=3.0),\n",
    "         imagen = widgets.IntSlider(min=2,max=len(map_s)-1,step=1, value=30))\n",
    "    "
   ]
  },
  {
   "cell_type": "markdown",
   "id": "d3a64d45",
   "metadata": {},
   "source": [
    "## PLOT 1 \n",
    "bkgnd bright. vs distance.\n"
   ]
  },
  {
   "cell_type": "markdown",
   "id": "0c2043d2",
   "metadata": {},
   "source": [
    "   ### Código de IDL\n",
    "```python\n",
    "for k=0,tama-1 do $\n",
    "    for j=0,10 do oplot,radios,output(*,j,k),color=15+j*10,linesty=1\n",
    "```"
   ]
  },
  {
   "cell_type": "code",
   "execution_count": 47,
   "id": "2d7ea3eb",
   "metadata": {},
   "outputs": [
    {
     "data": {
      "text/plain": [
       "(45, 11, 100)"
      ]
     },
     "execution_count": 47,
     "metadata": {},
     "output_type": "execute_result"
    }
   ],
   "source": [
    "#output = output_py\n",
    "output.shape\n"
   ]
  },
  {
   "cell_type": "code",
   "execution_count": 48,
   "id": "db3b9655",
   "metadata": {},
   "outputs": [
    {
     "name": "stdout",
     "output_type": "stream",
     "text": [
      "ITI =  15\n"
     ]
    }
   ],
   "source": [
    "iti = 0    # imagen al tiempo inicial elegido.\n",
    "im_ini = 15\n",
    "try: \n",
    "    im_ini\n",
    "except NameError:\n",
    "    iti = 0\n",
    "else:\n",
    "    iti = im_ini\n",
    "print('ITI = ', iti)"
   ]
  },
  {
   "cell_type": "code",
   "execution_count": 49,
   "id": "deb151a5",
   "metadata": {},
   "outputs": [
    {
     "name": "stdout",
     "output_type": "stream",
     "text": [
      "limgauss =  35\n"
     ]
    }
   ],
   "source": [
    "limgauss = 16    #vamos a limitar los puntos sobre los que se calc las gauss.s\n",
    "\n",
    "im_fi = 35\n",
    "try:\n",
    "    im_fi \n",
    "except NameError:\n",
    "    limgauss=tama\n",
    "else:\n",
    "    limgauss=im_fi \n",
    "print('limgauss = ', limgauss)\n"
   ]
  },
  {
   "cell_type": "code",
   "execution_count": 50,
   "id": "b74d800e",
   "metadata": {},
   "outputs": [
    {
     "name": "stdout",
     "output_type": "stream",
     "text": [
      "b_corr = 0\n"
     ]
    }
   ],
   "source": [
    "lag=5\n",
    "try:\n",
    "    lag_c\n",
    "except NameError:\n",
    "    b_corr=0\n",
    "else:\n",
    "    b_corr=lag_c\n",
    "\n",
    "print('b_corr =',  b_corr)"
   ]
  },
  {
   "cell_type": "markdown",
   "id": "a4b5a27c",
   "metadata": {},
   "source": [
    "## Sacar pa2 y pa2bkg\n",
    "pa2 = para cada valor de output en i j k (punto, dirección, imagen) se resta el valor mas pequeno de ese punto en esa dirección pero considerando todas la imágenes\n",
    "\n",
    "pa2bkg = salida del cono menos el promedio de brillo de background para cada punto de los 100 considerando todas las direcciones angulares (`output` - `den_bgs_er`)"
   ]
  },
  {
   "cell_type": "code",
   "execution_count": 51,
   "id": "dd0cc634",
   "metadata": {},
   "outputs": [],
   "source": [
    "pa2=fltarr(n_puntos,11,tama)"
   ]
  },
  {
   "cell_type": "code",
   "execution_count": 52,
   "id": "a08ccf2a",
   "metadata": {},
   "outputs": [],
   "source": [
    "pa2bkg=fltarr(n_puntos,11,tama)"
   ]
  },
  {
   "cell_type": "code",
   "execution_count": 53,
   "id": "84200bb8",
   "metadata": {},
   "outputs": [],
   "source": [
    "for k in range(45):\n",
    "    for j in range(11):\n",
    "        for i in range(100):            \n",
    "            #pa2[k][j][i]   = output[k][j][i] - output[:,j,i].min()\n",
    "            pa2[k,j,i]     = output[k,j,i]   - output[:,j,i].min()\n",
    "            #pa2[k][j][i]   = output[k][j][i] - output.T[i][j][:].min()\n",
    "            pa2bkg[k][j][i]= output[k][j][i] - den_bgs_er[i,0]"
   ]
  },
  {
   "cell_type": "code",
   "execution_count": 54,
   "id": "0484e256",
   "metadata": {},
   "outputs": [
    {
     "data": {
      "text/plain": [
       "2418.25"
      ]
     },
     "execution_count": 54,
     "metadata": {},
     "output_type": "execute_result"
    }
   ],
   "source": [
    "den_bgs_er[:,0].min()"
   ]
  },
  {
   "cell_type": "code",
   "execution_count": 55,
   "id": "b9b98678",
   "metadata": {},
   "outputs": [
    {
     "data": {
      "text/plain": [
       "3412.159090909091"
      ]
     },
     "execution_count": 55,
     "metadata": {},
     "output_type": "execute_result"
    }
   ],
   "source": [
    "den_bgs_er[:,0].max()"
   ]
  },
  {
   "cell_type": "code",
   "execution_count": 56,
   "id": "27375466",
   "metadata": {},
   "outputs": [
    {
     "data": {
      "text/plain": [
       "2407.0"
      ]
     },
     "execution_count": 56,
     "metadata": {},
     "output_type": "execute_result"
    }
   ],
   "source": [
    "output[:,j,i].min()"
   ]
  },
  {
   "cell_type": "code",
   "execution_count": 57,
   "id": "80635991",
   "metadata": {},
   "outputs": [
    {
     "data": {
      "text/plain": [
       "(45, 11, 100)"
      ]
     },
     "execution_count": 57,
     "metadata": {},
     "output_type": "execute_result"
    }
   ],
   "source": [
    "pa2.shape"
   ]
  },
  {
   "cell_type": "markdown",
   "id": "1dd04100",
   "metadata": {},
   "source": [
    "## IDL\n",
    "```fortran\n",
    "for i=1,n_puntos-1,5 do oplot,pa2(i,5,*),color=i*15\n",
    "```"
   ]
  },
  {
   "cell_type": "code",
   "execution_count": 58,
   "id": "28851e9f",
   "metadata": {},
   "outputs": [
    {
     "data": {
      "text/plain": [
       "(45, 11, 100)"
      ]
     },
     "execution_count": 58,
     "metadata": {},
     "output_type": "execute_result"
    }
   ],
   "source": [
    "pa2.shape"
   ]
  },
  {
   "cell_type": "code",
   "execution_count": 59,
   "id": "bd19dd7b",
   "metadata": {},
   "outputs": [
    {
     "data": {
      "image/png": "[encoded data removed]",
      "text/plain": [
       "<Figure size 1296x432 with 1 Axes>"
      ]
     },
     "metadata": {
      "needs_background": "light"
     },
     "output_type": "display_data"
    }
   ],
   "source": [
    "fig = plt.figure(figsize=(18,6))\n",
    "#cm = plt.get_cmap('nipy_spectral_r')\n",
    "#cm = plt.get_cmap('gnuplot2_r')\n",
    "cm = plt.get_cmap('plasma')\n",
    "N_PUNTOS = 100\n",
    "cNorm  = colors.Normalize(vmin=0, vmax=N_PUNTOS-1)\n",
    "scalarMap = mplcm.ScalarMappable(norm=cNorm, cmap=cm)\n",
    "ax = fig.add_subplot(1,1,1)\n",
    "promedios = np.array([])\n",
    "for k in range(tama):\n",
    "    promedios = np.append(promedios,\n",
    "                          np.mean(pa2[k,5,:]))\n",
    "promedios2 = np.array([])\n",
    "for k in range(tama):\n",
    "    promedios2 = np.append(promedios2,\n",
    "                          np.mean(pa2[k,5,0:100:5]))\n",
    "for i in np.arange(0,n_puntos, 5):\n",
    "    ax.set_prop_cycle(color=[scalarMap.to_rgba(i)])\n",
    "    ax.plot(tiempos,\n",
    "            pa2.T[i,5,:],\n",
    "           label='Punto %s' %i, markersize=1)\n",
    "\n",
    "#plt.plot(tiempos, promedios, 'w', linestyle='--')\n",
    "#plt.plot(tiempos, promedios2, 'r', linestyle='--')\n",
    "date_format = mpl_dates.DateFormatter('%H:%M \\n%d-%b-%Y')\n",
    "plt.gca().xaxis.set_major_formatter(date_format)\n",
    "ax.grid(color = \"#242326\")\n",
    "ax.legend(ncol=2, framealpha=0.15,labelcolor=\"#d3d3d3\")\n",
    "ax.set_facecolor('black')\n",
    "#fig.autofmt_xdate()\n",
    "plt.ylabel(\"Brillo - $valor_{min}$\")\n",
    "plt.xlabel('Número de imágen')\n",
    "plt.title('Comportamiento del radio central (PA) del cono')\n",
    "plt.show()"
   ]
  },
  {
   "cell_type": "code",
   "execution_count": null,
   "id": "82aedb47",
   "metadata": {},
   "outputs": [],
   "source": []
  },
  {
   "cell_type": "markdown",
   "id": "d0ace952",
   "metadata": {},
   "source": [
    "### Para calular los errores:"
   ]
  },
  {
   "cell_type": "code",
   "execution_count": 60,
   "id": "8dd8f58a",
   "metadata": {},
   "outputs": [
    {
     "data": {
      "text/plain": [
       "(100, 45, 2)"
      ]
     },
     "execution_count": 60,
     "metadata": {},
     "output_type": "execute_result"
    }
   ],
   "source": [
    "pa3erm=np.zeros((n_puntos,tama,2))\n",
    "pa3ero=np.zeros((n_puntos,tama,2))\n",
    "for i in range(n_puntos):\n",
    "    for j in range(tama):\n",
    "        pa3ero[i,j,0] = np.mean(pa2[j,:,i])\n",
    "        pa3ero[i,j,1] = np.std(pa2[j,:,i])\n",
    "pa3erm.shape"
   ]
  },
  {
   "cell_type": "code",
   "execution_count": 61,
   "id": "afedd6dd",
   "metadata": {},
   "outputs": [
    {
     "data": {
      "text/plain": [
       "(45, 11, 100)"
      ]
     },
     "execution_count": 61,
     "metadata": {},
     "output_type": "execute_result"
    }
   ],
   "source": [
    "pa2.shape"
   ]
  },
  {
   "cell_type": "code",
   "execution_count": 62,
   "id": "6be0bdda",
   "metadata": {},
   "outputs": [
    {
     "data": {
      "text/plain": [
       "(100, 45, 2)"
      ]
     },
     "execution_count": 62,
     "metadata": {},
     "output_type": "execute_result"
    }
   ],
   "source": [
    "pa3ero.shape"
   ]
  },
  {
   "cell_type": "code",
   "execution_count": 63,
   "id": "a17ab7f9",
   "metadata": {},
   "outputs": [
    {
     "data": {
      "text/plain": [
       "array([74.63636364, 74.27272727, 73.63636364, 73.18181818, 72.27272727,\n",
       "       70.27272727, 68.36363636, 65.81818182, 64.36363636, 62.72727273,\n",
       "       60.63636364, 58.36363636, 54.63636364, 51.18181818, 48.63636364,\n",
       "       47.        , 45.18181818, 42.63636364, 39.54545455, 36.81818182,\n",
       "       34.09090909, 30.90909091, 28.        , 23.72727273, 19.90909091,\n",
       "       15.72727273, 12.27272727, 10.        ,  8.36363636,  7.90909091,\n",
       "        8.27272727,  7.72727273,  7.36363636,  6.        ,  6.18181818,\n",
       "        7.18181818,  7.45454545,  9.81818182, 10.45454545, 10.81818182,\n",
       "        9.54545455,  7.81818182,  8.63636364,  8.45454545,  8.72727273])"
      ]
     },
     "execution_count": 63,
     "metadata": {},
     "output_type": "execute_result"
    }
   ],
   "source": [
    "pa3ero[0,:,0]"
   ]
  },
  {
   "cell_type": "code",
   "execution_count": 64,
   "id": "c18be19b",
   "metadata": {},
   "outputs": [],
   "source": [
    "normg=np.mean(pa3ero[:,:,0])\n",
    "pa3erm[:,:,0]=pa3ero[:,:,0]/normg\n",
    "pa3erm[:,:,1]=pa3ero[:,:,1]/normg"
   ]
  },
  {
   "cell_type": "code",
   "execution_count": 65,
   "id": "fffc64ed",
   "metadata": {},
   "outputs": [],
   "source": [
    "pa3er=np.zeros((n_puntos,tama-iti,2))\n",
    "pa3er[:,:,0]=pa3erm[:,iti:tama,0]\n",
    "pa3er[:,:,1]=pa3erm[:,iti:tama,1]"
   ]
  },
  {
   "cell_type": "code",
   "execution_count": 66,
   "id": "17b63d1d",
   "metadata": {},
   "outputs": [
    {
     "data": {
      "text/plain": [
       "(100, 30, 2)"
      ]
     },
     "execution_count": 66,
     "metadata": {},
     "output_type": "execute_result"
    }
   ],
   "source": [
    "pa3er.shape"
   ]
  },
  {
   "cell_type": "code",
   "execution_count": 67,
   "id": "2a103d0c-3aeb-403c-9dfd-20e61d8f65a0",
   "metadata": {},
   "outputs": [
    {
     "data": {
      "text/plain": [
       "45"
      ]
     },
     "execution_count": 67,
     "metadata": {},
     "output_type": "execute_result"
    }
   ],
   "source": [
    "tama"
   ]
  },
  {
   "cell_type": "code",
   "execution_count": 68,
   "id": "2c391fb8-2250-402c-afa2-7bd2a279dc6b",
   "metadata": {},
   "outputs": [],
   "source": [
    "#delta"
   ]
  },
  {
   "cell_type": "code",
   "execution_count": 69,
   "id": "5d54e9c7",
   "metadata": {},
   "outputs": [
    {
     "data": {
      "text/plain": [
       "Timestamp('2018-11-10 10:24:00.005000')"
      ]
     },
     "execution_count": 69,
     "metadata": {},
     "output_type": "execute_result"
    }
   ],
   "source": [
    "tiempo3 = delta[iti:tama]\n",
    "tama3 = tama - iti\n",
    "xtemp = tiempo3\n",
    "xcero = tiempos[0]\n",
    "xcero"
   ]
  },
  {
   "cell_type": "code",
   "execution_count": 70,
   "id": "eee581f8-3b5b-48da-8195-0a86b84e5e9b",
   "metadata": {},
   "outputs": [
    {
     "data": {
      "text/plain": [
       "30"
      ]
     },
     "execution_count": 70,
     "metadata": {},
     "output_type": "execute_result"
    }
   ],
   "source": [
    "len(tiempo3)\n",
    "len(xtemp)"
   ]
  },
  {
   "cell_type": "code",
   "execution_count": 71,
   "id": "6336cbdb",
   "metadata": {},
   "outputs": [
    {
     "data": {
      "text/plain": [
       "Text(0.5, 0, \"Segundos a partir de '2018-11-10 10:24:00.005000'\")"
      ]
     },
     "execution_count": 71,
     "metadata": {},
     "output_type": "execute_result"
    },
    {
     "data": {
      "image/png": "[encoded data removed]",
      "text/plain": [
       "<Figure size 432x288 with 1 Axes>"
      ]
     },
     "metadata": {
      "needs_background": "light"
     },
     "output_type": "display_data"
    }
   ],
   "source": [
    "plt.plot(xtemp,pa3er[0,:,0])\n",
    "plt.plot(xtemp,ndimage.uniform_filter(pa3er[0,:,0], size=3, mode='nearest'))\n",
    "plt.xlabel(\"Segundos a partir de '2018-11-10 10:24:00.005000'\")"
   ]
  },
  {
   "cell_type": "code",
   "execution_count": 72,
   "id": "df82bcf1-3b61-4200-80a8-8559a99d36ef",
   "metadata": {},
   "outputs": [
    {
     "name": "stdout",
     "output_type": "stream",
     "text": [
      "lag =  5\n"
     ]
    }
   ],
   "source": [
    "try: \n",
    "    lag\n",
    "except NameError:\n",
    "    corrim = 0\n",
    "else:\n",
    "    corrim = lag\n",
    "print('lag = ', lag)"
   ]
  },
  {
   "cell_type": "code",
   "execution_count": 73,
   "id": "fa466f33-cd07-452c-96f4-03df5e9692c1",
   "metadata": {},
   "outputs": [
    {
     "name": "stdout",
     "output_type": "stream",
     "text": [
      "numero de terminos en el ajuste de curvas =  5\n"
     ]
    }
   ],
   "source": [
    "try: \n",
    "    numter\n",
    "except NameError:\n",
    "    ntms = 5\n",
    "else:\n",
    "    ntms = numter\n",
    "print('numero de terminos en el ajuste de curvas = ', ntms)"
   ]
  },
  {
   "cell_type": "code",
   "execution_count": 74,
   "id": "9132e5c6-9e0d-410f-a67d-e84e4ff244e5",
   "metadata": {},
   "outputs": [],
   "source": [
    "ctelimg=5"
   ]
  },
  {
   "cell_type": "code",
   "execution_count": 75,
   "id": "1b56e374-3114-467e-b19b-c76febbd898a",
   "metadata": {},
   "outputs": [
    {
     "name": "stdout",
     "output_type": "stream",
     "text": [
      "Corrimiento = 1\n"
     ]
    }
   ],
   "source": [
    "tamano=tama3\n",
    "l_gauss=limgauss\n",
    "er_arr=pa3er\n",
    "x_tmp=xtemp\n",
    "x_0=xcero\n",
    "n_radios=n_puntos\n",
    "\n",
    "if (corrim == 0):\n",
    "    print('Corrimiento = 0')\n",
    "    bnd=1\n",
    "    if l_gauss >= tamano:\n",
    "        l_gauss=tamano -1\n",
    "    else:\n",
    "        l_gauss=l_gauss-1\n",
    "else:\n",
    "    bnd=0\n",
    "    print('Corrimiento = 1')\n",
    "    if (l_gauss > tamano-ctelimg-1):\n",
    "        l_gauss=tamano-ctelimg \n",
    "    else: \n",
    "        l_gauss=l_gauss-1"
   ]
  },
  {
   "cell_type": "code",
   "execution_count": 76,
   "id": "62fb49a2-a911-40b0-aa12-cd116845df52",
   "metadata": {},
   "outputs": [
    {
     "data": {
      "text/plain": [
       "25"
      ]
     },
     "execution_count": 76,
     "metadata": {},
     "output_type": "execute_result"
    }
   ],
   "source": [
    "l_gauss"
   ]
  },
  {
   "cell_type": "code",
   "execution_count": 77,
   "id": "4f916ced-3876-41dc-86c3-21dc46f370c2",
   "metadata": {},
   "outputs": [],
   "source": [
    "pasal=np.zeros((l_gauss*2,n_radios))\n",
    "g_ctes=np.zeros((n_radios,9))  #estamos aumentando el termino de 1er"
   ]
  },
  {
   "cell_type": "code",
   "execution_count": 78,
   "id": "d48eb4ce-d87a-464c-b2e3-51c786f838c9",
   "metadata": {},
   "outputs": [
    {
     "data": {
      "text/plain": [
       "(50, 100)"
      ]
     },
     "execution_count": 78,
     "metadata": {},
     "output_type": "execute_result"
    }
   ],
   "source": [
    "pasal.shape"
   ]
  },
  {
   "cell_type": "code",
   "execution_count": 79,
   "id": "b557435a-b64f-4d9c-a6de-d55baddaa1ca",
   "metadata": {},
   "outputs": [
    {
     "data": {
      "text/plain": [
       "(100, 9)"
      ]
     },
     "execution_count": 79,
     "metadata": {},
     "output_type": "execute_result"
    }
   ],
   "source": [
    "g_ctes.shape"
   ]
  },
  {
   "cell_type": "code",
   "execution_count": 80,
   "id": "17e1cefc-6bc5-4194-ac86-51d6e1dc83e9",
   "metadata": {},
   "outputs": [],
   "source": [
    "ytemp=np.zeros((l_gauss+1))  #los tiempos que vamos a usar\n",
    "sigtemp=np.zeros((l_gauss+1))\n",
    "tsal=np.zeros((l_gauss*2,n_radios))\n",
    "tctes=np.zeros((n_radios,4)) #el arreglo de las constantes LOS TRES METODOS\n",
    "tsig=np.zeros((n_radios,5))  #el arreglo de los errores respectivos y chi2\n",
    "#cplot=fix(findgen(20)/(20./n_radios)) # para checar si ploteamos o no??\n",
    "cplot=np.arange(0,100,5) # para checar si ploteamos o no??"
   ]
  },
  {
   "cell_type": "code",
   "execution_count": 81,
   "id": "89398bbd-09e2-4f56-b961-7fdf621969e3",
   "metadata": {},
   "outputs": [
    {
     "name": "stdout",
     "output_type": "stream",
     "text": [
      "0\n",
      "1\n",
      "2\n",
      "3\n",
      "4\n",
      "5\n",
      "6\n",
      "7\n",
      "8\n",
      "9\n"
     ]
    }
   ],
   "source": [
    "for j in range(0,10):\n",
    "    print(j)"
   ]
  },
  {
   "cell_type": "code",
   "execution_count": 82,
   "id": "b3492271-7c6a-4e76-9fc4-d85b1679f7a2",
   "metadata": {},
   "outputs": [
    {
     "data": {
      "text/plain": [
       "0"
      ]
     },
     "execution_count": 82,
     "metadata": {},
     "output_type": "execute_result"
    }
   ],
   "source": [
    "bnd"
   ]
  },
  {
   "cell_type": "code",
   "execution_count": 83,
   "id": "c5cd1e56-b101-413a-a952-9c1afc012774",
   "metadata": {
    "tags": []
   },
   "outputs": [],
   "source": [
    "#x_tmp[0:(l_gauss+1)+0]"
   ]
  },
  {
   "cell_type": "code",
   "execution_count": 84,
   "id": "508dc176-2e98-40dc-bca2-d077eb85e6b0",
   "metadata": {
    "tags": []
   },
   "outputs": [
    {
     "data": {
      "text/plain": [
       "array([3.27573171, 3.14901094, 2.97160188, 2.75617658, 2.56609544,\n",
       "       2.37601429, 2.15425296, 1.95149974, 1.65370595, 1.38759235,\n",
       "       1.09613459, 0.85536515, 0.69696419, 0.58291551, 0.55123532,\n",
       "       0.57657947, 0.53856324, 0.51321909, 0.41817852, 0.43085059,\n",
       "       0.50054701, 0.51955513, 0.68429212, 0.72864438, 0.75398854,\n",
       "       0.665284  ])"
      ]
     },
     "execution_count": 84,
     "metadata": {},
     "output_type": "execute_result"
    }
   ],
   "source": [
    "cte1=0\n",
    "er_arr[0,cte1:l_gauss+1+cte1,0]"
   ]
  },
  {
   "cell_type": "markdown",
   "id": "17762977-ab16-4712-88cb-9402e63d199c",
   "metadata": {},
   "source": [
    "# Interpolar un arreglo\n",
    "```python\n",
    "interpfunc = interpolate.interp1d(b,a, kind='linear')\n",
    "x=interpfuc(c)\n",
    "```"
   ]
  },
  {
   "cell_type": "code",
   "execution_count": 85,
   "id": "af41f492-df37-4768-9a91-997b55e64665",
   "metadata": {},
   "outputs": [
    {
     "data": {
      "image/png": "[encoded data removed]",
      "text/plain": [
       "<Figure size 432x288 with 1 Axes>"
      ]
     },
     "metadata": {
      "needs_background": "light"
     },
     "output_type": "display_data"
    }
   ],
   "source": [
    "from math import floor as floor\n",
    "j=45\n",
    "mfct=(tamano-l_gauss)/n_radios\n",
    "cte1=floor(j*mfct)\n",
    "xt=x_tmp[cte1:l_gauss+cte1]\n",
    "ytemp   =er_arr[j, cte1:l_gauss+cte1, 0]\n",
    "sigtemp =er_arr[j, cte1:l_gauss+cte1, 1]\n",
    "#INTERPOLATION\n",
    "x_sal=(np.arange(l_gauss*2)+1)*(max(xt)-min(xt))/(l_gauss*2)+min(xt)\n",
    "interpolFunction = interpolate.interp1d(xt, ytemp, kind='quadratic')#, bounds_error=False, fill_value='extrapolate')\n",
    "inter=interpolFunction(x_sal)\n",
    "\n",
    "siginterFunction = interpolate.interp1d(xt, sigtemp, kind='quadratic')#, bounds_error=False, fill_value='extrapolate')\n",
    "siginter = siginterFunction(x_sal)\n",
    "\n",
    "plt.plot(xt, ytemp, marker='o')\n",
    "#plt.plot(xt, sigtemp, marker='.')\n",
    "#plt.plot(x_sal, inter, marker='.')\n",
    "plt.show()"
   ]
  },
  {
   "cell_type": "code",
   "execution_count": 86,
   "id": "28bbf251-b72e-40e4-a64e-a707ad13c9fb",
   "metadata": {},
   "outputs": [
    {
     "data": {
      "text/plain": [
       "array([40, 41, 42, 43, 44])"
      ]
     },
     "execution_count": 86,
     "metadata": {},
     "output_type": "execute_result"
    }
   ],
   "source": [
    "np.arange(40,45)"
   ]
  },
  {
   "cell_type": "code",
   "execution_count": 87,
   "id": "322628e9-df94-4d8e-a811-db164acd1635",
   "metadata": {},
   "outputs": [
    {
     "data": {
      "text/plain": [
       "array([-1.83643577e-09,  1.99789466e-04, -4.23092964e+00])"
      ]
     },
     "execution_count": 87,
     "metadata": {},
     "output_type": "execute_result"
    }
   ],
   "source": [
    "c = np.polyfit(x_sal, inter, deg=2)\n",
    "c"
   ]
  },
  {
   "cell_type": "code",
   "execution_count": 88,
   "id": "8ee4d524-2937-49b3-bd31-545fba478263",
   "metadata": {},
   "outputs": [
    {
     "data": {
      "image/png": "[encoded data removed]",
      "text/plain": [
       "<Figure size 432x288 with 1 Axes>"
      ]
     },
     "metadata": {
      "needs_background": "light"
     },
     "output_type": "display_data"
    }
   ],
   "source": [
    "a0 = c[0]\n",
    "a1 = c[1]\n",
    "a2 = c[2]\n",
    "yf = np.array([])\n",
    "for x in x_sal:\n",
    "    yf = np.append(yf, a0*x**2 + a1*x + a2)\n",
    "plt.plot(x_sal, yf, marker=\".\")\n",
    "#plt.plot(x_sal, a0*x_sal**2 + a1*x_sal + a2, \"y:\")\n",
    "plt.plot(x_sal, inter)\n",
    "plt.show()"
   ]
  },
  {
   "cell_type": "code",
   "execution_count": 89,
   "id": "8adf9f3c-2aae-4912-958b-8089f0bc82cf",
   "metadata": {},
   "outputs": [],
   "source": [
    "x = x_sal\n",
    "yd = inter - yf\n",
    "imax = np.where(yd == yd.max())\n",
    "for i in imax:\n",
    "    imax = int(i)\n",
    "ymax = yd[imax]\n",
    "xmax = x_sal[imax]\n",
    "imin = np.where(yd == yd.min())\n",
    "for i in imin:\n",
    "    imin = int(i)\n",
    "ymin = yd[imin]\n",
    "xmin = x_sal[imin]\n",
    "#if abs(ymax) gt abs(ymin) then i0=imax else i0=imin ;emiss or absorp?\n",
    "if abs(ymax) > abs(ymin):\n",
    "    i0 = imax\n",
    "else:\n",
    "     i0 = imin   \n",
    "n = len(inter)\n",
    "#i0 = i0 > 1 < (n-2)  #;never take edges\n",
    "dy = yd[i0]\t\t\t#;diff between extreme and mean\n",
    "Delta = dy/np.exp(1.)\t\t#;1/e value"
   ]
  },
  {
   "cell_type": "code",
   "execution_count": 90,
   "id": "34afcc62-bf4f-43af-a736-00587c9a3d05",
   "metadata": {},
   "outputs": [
    {
     "name": "stdout",
     "output_type": "stream",
     "text": [
      "25\n",
      "50\n"
     ]
    }
   ],
   "source": [
    "print(i0)\n",
    "print(n)"
   ]
  },
  {
   "cell_type": "code",
   "execution_count": 91,
   "id": "34bae530-9ffe-4dc7-ab4f-3bc578bfca57",
   "metadata": {},
   "outputs": [
    {
     "name": "stdout",
     "output_type": "stream",
     "text": [
      "0.4797273070531145\n",
      "55799.99512000001\n",
      "[38]\n"
     ]
    }
   ],
   "source": [
    "print(yd[i0])\n",
    "print(x[i0])\n",
    "print(i)"
   ]
  },
  {
   "cell_type": "code",
   "execution_count": 92,
   "id": "791b2d2e-19bf-4092-8893-f8ffa7406d14",
   "metadata": {},
   "outputs": [
    {
     "name": "stdout",
     "output_type": "stream",
     "text": [
      "0\n",
      "1\n",
      "2\n",
      "3\n",
      "4\n"
     ]
    }
   ],
   "source": [
    "i=0\n",
    "while (i0 + i + 1 < n) and (i0 - i > 0) and (abs(yd[i0+i]) > abs(Delta)) and (abs(yd[i0-i]) > abs(Delta)):\n",
    "    print(i)\n",
    "    i += 1\n",
    "print(i)\n"
   ]
  },
  {
   "cell_type": "code",
   "execution_count": 93,
   "id": "298b9144-d407-468c-9c8e-ccdff02847ee",
   "metadata": {},
   "outputs": [
    {
     "data": {
      "text/plain": [
       "4"
      ]
     },
     "execution_count": 93,
     "metadata": {},
     "output_type": "execute_result"
    }
   ],
   "source": [
    "def emissAbsorb():\n",
    "    x = x_sal\n",
    "    yd = inter - yf\n",
    "    imax = np.where(yd == yd.max())\n",
    "    for i in imax:\n",
    "        imax = int(i)\n",
    "    ymax = yd[imax]\n",
    "    xmax = x_sal[imax]\n",
    "    imin = np.where(yd == yd.min())\n",
    "    for i in imin:\n",
    "        imin = int(i)\n",
    "    ymin = yd[imin]\n",
    "    xmin = x_sal[imin]\n",
    "    #if abs(ymax) gt abs(ymin) then i0=imax else i0=imin ;emiss or absorp?\n",
    "    if abs(ymax) > abs(ymin):\n",
    "        i0 = imax\n",
    "    else:\n",
    "        i0 = imin   \n",
    "    n = len(inter)\n",
    "    #i0 = i0 > 1 < (n-2)  #;never take edges\n",
    "    dy = yd[i0]\t\t\t#;diff between extreme and mean\n",
    "    Delta = dy/np.exp(1.)\t\t#;1/e value\n",
    "    i=0\n",
    "    while (i0 + i + 1 < n) and (i0 - i > 0) and (abs(yd[i0+i]) > abs(Delta)) and (abs(yd[i0-i]) > abs(Delta)):\n",
    "        i += 1\n",
    "    return i\n",
    "emissAbsorb()"
   ]
  },
  {
   "cell_type": "code",
   "execution_count": 94,
   "id": "d011cfb8-7beb-4adc-9e31-a7c5431a59dd",
   "metadata": {},
   "outputs": [
    {
     "data": {
      "text/plain": [
       "[0.4797273070531145, 55799.99512000001, 3599.9984799999947]"
      ]
     },
     "execution_count": 94,
     "metadata": {},
     "output_type": "execute_result"
    }
   ],
   "source": [
    "a = [ yd[i0], x[i0], abs(x[i0]-x[i0+i])]\n",
    "a"
   ]
  },
  {
   "cell_type": "code",
   "execution_count": 95,
   "id": "462fbec3-4040-469c-9ef2-70975cc87771",
   "metadata": {},
   "outputs": [
    {
     "data": {
      "text/plain": [
       "array([-1.83643577e-09,  1.99789466e-04, -4.23092964e+00])"
      ]
     },
     "execution_count": 95,
     "metadata": {},
     "output_type": "execute_result"
    }
   ],
   "source": [
    "c"
   ]
  },
  {
   "cell_type": "code",
   "execution_count": 96,
   "id": "821341b4-abe8-4c55-8899-82a29ded27f3",
   "metadata": {},
   "outputs": [
    {
     "data": {
      "text/plain": [
       "array([ 4.79727307e-01,  5.57999951e+04,  3.59999848e+03, -4.23092964e+00,\n",
       "        1.99789466e-04])"
      ]
     },
     "execution_count": 96,
     "metadata": {},
     "output_type": "execute_result"
    }
   ],
   "source": [
    "nt = 5\n",
    "if nt > 3: a = np.append(a, c[2])\n",
    "if nt > 4: a = np.append(a, c[1])\n",
    "if nt > 5: a = np.append(a, c[0])\n",
    "a"
   ]
  },
  {
   "cell_type": "code",
   "execution_count": 97,
   "id": "148cff09-bc1e-453c-8978-c7393d1221a9",
   "metadata": {},
   "outputs": [],
   "source": [
    "def gauss_funct3(x,a0,a1,a2):\n",
    "    if (a2 != 0):\n",
    "        z = (x-a1)/a2\n",
    "        ez = np.exp(-z**2/2)\n",
    "    else:\n",
    "        z = 100\n",
    "        ez = 0.0\n",
    "    f = a0*ez\n",
    "    return f\n",
    "    \n",
    "def gauss_funct4(x,a0,a1,a2,a3):\n",
    "    if (a2 != 0):\n",
    "        z = (x-a1)/a2\n",
    "        ez = np.exp(-z**2/2)\n",
    "    else:\n",
    "        z = 100\n",
    "        ez = 0.0\n",
    "    f = a0*ez + a3\n",
    "    return f\n",
    "    \n",
    "def gauss_funct5(x,a0,a1,a2,a3,a4):\n",
    "    if (a2 != 0):\n",
    "        z = (x-a1)/a2\n",
    "        ez = np.exp(-z**2/2)\n",
    "    else:\n",
    "        z = 100\n",
    "        ez = 0.0\n",
    "    f = a0*ez + a3 + a4*x\n",
    "    return f\n",
    "\n",
    "def gauss_funct6(x,a0,a1,a2,a3,a4,a5):\n",
    "    if (a2 != 0):\n",
    "        z = (x-a1)/a2\n",
    "        ez = np.exp(-z**2/2)\n",
    "    else:\n",
    "        z = 100\n",
    "        ez = 0.0\n",
    "    f = a0*ez + a3 + a4*x + a5*x**2\n",
    "    return f\n"
   ]
  },
  {
   "cell_type": "code",
   "execution_count": 98,
   "id": "1c555eb4-e596-4894-8a00-3a40dacea8bd",
   "metadata": {},
   "outputs": [],
   "source": [
    "nt = 5 ##############################################################################\n",
    "if nt == 3:\n",
    "    i = emissAbsorb()\n",
    "    a = [ yd[i0], x[i0], abs(x[i0]-x[i0+i])]\n",
    "    gauss_funct = gauss_funct3\n",
    "    \n",
    "elif nt == 4:\n",
    "    i = emissAbsorb()\n",
    "    a = [ yd[i0], x[i0], abs(x[i0]-x[i0+i])]\n",
    "    a = np.append(a, c[2])\n",
    "    gauss_funct = gauss_funct4\n",
    "                  \n",
    "elif nt == 5:\n",
    "    i = emissAbsorb()\n",
    "    a = [ yd[i0], x[i0], abs(x[i0]-x[i0+i])]\n",
    "    a = np.append(a, c[2])\n",
    "    a = np.append(a, c[1])\n",
    "    gauss_funct = gauss_funct5\n",
    "    \n",
    "elif nt == 6:\n",
    "    i = emissAbsorb()\n",
    "    a = [ yd[i0], x[i0], abs(x[i0]-x[i0+i])]\n",
    "    a = np.append(a, c[2])\n",
    "    a = np.append(a, c[1])\n",
    "    a = np.append(a, c[0])\n",
    "    gauss_funct = gauss_funct6\n",
    "    "
   ]
  },
  {
   "cell_type": "code",
   "execution_count": 99,
   "id": "30d0223a-c415-41a4-9e8f-73bc4553b98a",
   "metadata": {},
   "outputs": [
    {
     "name": "stdout",
     "output_type": "stream",
     "text": [
      "0.9607860371388016\n",
      "55775.904597724235\n",
      "5358.642354662668\n",
      "0.8387209358681736\n",
      "-4.227690624988715e-06\n"
     ]
    }
   ],
   "source": [
    "#popt, pcov = curve_fit(gauss_funct, x_sal, inter, p0=a, sigma=siginter, absolute_sigma=True)\n",
    "popt, pcov = curve_fit(gauss_funct, \n",
    "                       x_sal, \n",
    "                       inter, \n",
    "                       p0=a)\n",
    "for i in popt:\n",
    "    print(i)"
   ]
  },
  {
   "cell_type": "code",
   "execution_count": 100,
   "id": "93ec7e3d-c399-4e7f-9350-8dac57e6493b",
   "metadata": {},
   "outputs": [
    {
     "data": {
      "image/png": "[encoded data removed]",
      "text/plain": [
       "<Figure size 432x288 with 2 Axes>"
      ]
     },
     "metadata": {
      "needs_background": "light"
     },
     "output_type": "display_data"
    }
   ],
   "source": [
    "cm = plt.get_cmap('gnuplot2')\n",
    "plt.imshow(np.log(abs(pcov)), cmap=cm)\n",
    "plt.colorbar()\n",
    "plt.title(\"Matriz de covarianza\")\n",
    "plt.show()"
   ]
  },
  {
   "cell_type": "code",
   "execution_count": 101,
   "id": "c237c09c-da37-4ee2-8acc-2f4033382809",
   "metadata": {},
   "outputs": [
    {
     "data": {
      "image/png": "[encoded data removed]",
      "text/plain": [
       "<Figure size 432x288 with 1 Axes>"
      ]
     },
     "metadata": {
      "needs_background": "light"
     },
     "output_type": "display_data"
    }
   ],
   "source": [
    "popt2, pcov2 = curve_fit(gauss_funct, \n",
    "                         x_sal, \n",
    "                         inter, \n",
    "                         p0=a, \n",
    "                         sigma=siginter, \n",
    "                         absolute_sigma=True)\n",
    "yhat = gauss_funct(x_sal, *popt)\n",
    "yhatSigmas = gauss_funct(x_sal, *popt2)\n",
    "#plt.plot(x_sal, yhatSigmas, \"#05ff03\")  \n",
    "plt.plot(x_sal, yhatSigmas, \"r-\")  \n",
    "plt.plot(x_sal, inter)\n",
    "plt.plot(x_sal, yhat, \"k:\")\n",
    "plt.show()"
   ]
  },
  {
   "cell_type": "code",
   "execution_count": 102,
   "id": "f5a4c779-1c57-4431-9ef5-89d01169ccb2",
   "metadata": {},
   "outputs": [
    {
     "data": {
      "text/plain": [
       "array([ 4.79727307e-01,  5.57999951e+04,  3.59999848e+03, -4.23092964e+00,\n",
       "        1.99789466e-04])"
      ]
     },
     "execution_count": 102,
     "metadata": {},
     "output_type": "execute_result"
    }
   ],
   "source": [
    "a"
   ]
  },
  {
   "cell_type": "code",
   "execution_count": 103,
   "id": "1c265bfc-be52-4a85-a55a-16b6fad3d929",
   "metadata": {},
   "outputs": [],
   "source": [
    "yhat = gauss_funct(x_sal, *popt)"
   ]
  },
  {
   "cell_type": "code",
   "execution_count": 104,
   "id": "a20550ad-5a0b-446a-aa48-8cf55c2df91e",
   "metadata": {},
   "outputs": [
    {
     "data": {
      "text/plain": [
       "44.57485195166892"
      ]
     },
     "execution_count": 104,
     "metadata": {},
     "output_type": "execute_result"
    }
   ],
   "source": [
    "sum(inter)"
   ]
  },
  {
   "cell_type": "code",
   "execution_count": 105,
   "id": "693b7996-2eed-4d5b-ba32-4f3a5ba5acb3",
   "metadata": {},
   "outputs": [
    {
     "data": {
      "text/plain": [
       "44.57485194612688"
      ]
     },
     "execution_count": 105,
     "metadata": {},
     "output_type": "execute_result"
    }
   ],
   "source": [
    "sum(yhat)"
   ]
  },
  {
   "cell_type": "code",
   "execution_count": 106,
   "id": "6fbb0c6f-b8aa-4d7d-b3ef-728b158b53fb",
   "metadata": {},
   "outputs": [
    {
     "data": {
      "text/plain": [
       "44.319820870163504"
      ]
     },
     "execution_count": 106,
     "metadata": {},
     "output_type": "execute_result"
    }
   ],
   "source": [
    "sum(yhatSigmas)"
   ]
  },
  {
   "cell_type": "code",
   "execution_count": 107,
   "id": "800b1174-5039-4f11-9c54-472396a472d4",
   "metadata": {},
   "outputs": [
    {
     "data": {
      "text/plain": [
       "44.574851951668904"
      ]
     },
     "execution_count": 107,
     "metadata": {},
     "output_type": "execute_result"
    }
   ],
   "source": [
    "yhatSigmas = yhatSigmas/sum(yhatSigmas)*sum(inter)\n",
    "sum(yhatSigmas)"
   ]
  },
  {
   "cell_type": "code",
   "execution_count": 108,
   "id": "a902c70a",
   "metadata": {},
   "outputs": [
    {
     "data": {
      "image/png": "[encoded data removed]",
      "text/plain": [
       "<Figure size 576x288 with 1 Axes>"
      ]
     },
     "metadata": {
      "needs_background": "light"
     },
     "output_type": "display_data"
    }
   ],
   "source": [
    "fig = plt.figure(figsize=(8,4), frameon=False)\n",
    "ax = fig.add_axes([0, 0, 1, 1])\n",
    "#ax.errorbar(xt, ytemp, sigtemp, ecolor=\"#a1a1a1\", barsabove=True, elinewidth = 0.5,  capsize=2)\n",
    "ax.errorbar(x_sal, inter, siginter, ecolor=\"#a1a1a1\", barsabove=True, elinewidth = 0.5,  capsize=2)\n",
    "ax.plot(x_sal, inter, 'b', x_sal, yhat, '#1bfa50', linewidth=2)\n",
    "#ax.plot(x_sal, yhatSigmas, \"#1bfa50\", linewidth=2, label=\"No Sigmas\")\n",
    "uno = np.ones(len(x_sal))\n",
    "ax.plot(x_sal, a[0]*uno, \"magenta\")\n",
    "#ax.plot(x_sal, a[0]+popt2[3]*uno, \"magenta\")\n",
    "\n",
    "#a0 * np.exp(-z**2 / a2) + a3\n",
    "z_ = (popt2[1]-a[1])/a[2]\n",
    "ez_ = np.exp(-z_**2/a[2])\n",
    "amplitud = a[0]*ez_\n",
    "ax.plot(x_sal, amplitud*uno, \"c--\")\n",
    "\n",
    "#ax.plot(x_sal, a[0]+popt2[0]*uno, \"magenta\")\n",
    "#ax.plot(x_sal, a[3]*uno, \"#d3d3d3\")\n",
    "#ax.plot(x_sal, a[4]*uno, \"#d3d3d3\")\n",
    "##ax.plot(x_sal, abs(a[3]*uno-a[4]*uno)/2, \"#a109f9\")\n",
    "#ax.plot(x_sal, abs(a[4]*a[1])*uno, \"#f93109\")\n",
    "#ax.plot(x_sal, yf, \"r:\")\n",
    "ax.set_facecolor('black')\n",
    "plt.title(\"Gauss plot {}\".format(j))\n",
    "plt.xlabel(\"Tiempo en segundos\")\n",
    "plt.xlim((0,82000))\n",
    "#plt.axvline(a[1], color=\"#ffc800\", linestyle=\"--\")\n",
    "plt.axvline(popt2[1], color=\"#ffc800\", linestyle=\"--\")\n",
    "plt.axvline(popt2[1]-a[2], color=\"red\", linestyle=\"--\")\n",
    "plt.axvline(popt2[1]+a[2], color=\"red\", linestyle=\"--\")\n",
    "#plt.ylim((0,3.5))\n",
    "plt.show()"
   ]
  },
  {
   "cell_type": "code",
   "execution_count": 109,
   "id": "d761caa4-16ef-4367-8742-778a84926853",
   "metadata": {},
   "outputs": [
    {
     "data": {
      "text/plain": [
       "-9.963077934222094"
      ]
     },
     "execution_count": 109,
     "metadata": {},
     "output_type": "execute_result"
    }
   ],
   "source": [
    "2*np.sqrt(2*np.log(2))*a2\n"
   ]
  },
  {
   "cell_type": "code",
   "execution_count": 110,
   "id": "e6ebc525-dae1-4baf-ab24-24b88bc4e9b7",
   "metadata": {},
   "outputs": [
    {
     "data": {
      "image/png": "[encoded data removed]",
      "text/plain": [
       "<Figure size 576x288 with 1 Axes>"
      ]
     },
     "metadata": {
      "needs_background": "light"
     },
     "output_type": "display_data"
    }
   ],
   "source": [
    "fig = plt.figure(figsize=(8,4), frameon=False)\n",
    "ax = fig.add_axes([0, 0, 1, 1])\n",
    "#ax.errorbar(xt, ytemp, sigtemp, ecolor=\"#a1a1a1\", barsabove=True, elinewidth = 0.5,  capsize=2)\n",
    "ax.errorbar(x_sal, inter, siginter, ecolor=\"#a1a1a1\", barsabove=True, elinewidth = 0.5,  capsize=2)\n",
    "ax.plot(x_sal, inter, 'b', x_sal, yhat, '#1bfa50', linewidth=2)\n",
    "#ax.plot(x_sal, yhatSigmas, \"#1bfa50\", linewidth=2, label=\"No Sigmas\")\n",
    "uno = np.ones(len(x_sal))\n",
    "ax.plot(x_sal, popt2[0]*uno, \"magenta\")\n",
    "#ax.plot(x_sal, a[0]*uno, \"yellow\")\n",
    "#Amplitud\n",
    "z_ = (popt2[1]-a[1])/a[2]\n",
    "ez_ = np.exp(-z_**2/2)\n",
    "amplitud = a[0]*ez_\n",
    "ax.plot(x_sal, amplitud+popt2[3]*uno, \"#d3d3d3\")\n",
    "#ax.plot(x_sal, popt2[4]*uno, \"#d3d3d3\")\n",
    "\n",
    "#ax.plot(x_sal, abs(a[4]*a[1])*uno, \"#f93109\")\n",
    "#ax.plot(x_sal, yf, \"r:\")\n",
    "ax.set_facecolor('black')\n",
    "plt.title(\"Gauss plot {}\".format(j))\n",
    "plt.xlabel(\"Tiempo en segundos\")\n",
    "plt.xlim((0,82000))\n",
    "plt.axvline(popt2[1], color=\"#ffc800\", linestyle=\"--\")\n",
    "plt.axvline(popt2[1]-popt2[2], color=\"red\", linestyle=\"--\")\n",
    "plt.axvline(popt2[1]+popt2[2], color=\"red\", linestyle=\"--\")\n",
    "#plt.ylim((0,3.5))\n",
    "plt.show()"
   ]
  },
  {
   "cell_type": "code",
   "execution_count": 111,
   "id": "4eaca989-9fef-4f05-9370-9fac449c03c2",
   "metadata": {},
   "outputs": [
    {
     "name": "stdout",
     "output_type": "stream",
     "text": [
      "0.4797273070531145\n",
      "55799.99512000001\n",
      "3599.9984799999947\n",
      "-4.230929643751673\n",
      "0.00019978946598635743\n"
     ]
    }
   ],
   "source": [
    "for param in a:\n",
    "    print(param)"
   ]
  },
  {
   "cell_type": "code",
   "execution_count": 112,
   "id": "a22a7160-4190-4d14-8fa9-eed9baecd701",
   "metadata": {},
   "outputs": [
    {
     "data": {
      "text/plain": [
       "50"
      ]
     },
     "execution_count": 112,
     "metadata": {},
     "output_type": "execute_result"
    }
   ],
   "source": [
    "len(x_sal)"
   ]
  },
  {
   "cell_type": "code",
   "execution_count": 113,
   "id": "dd8fd2cd-7608-4989-bed7-4493affdb71e",
   "metadata": {},
   "outputs": [
    {
     "data": {
      "text/plain": [
       "0.2267570545106103"
      ]
     },
     "execution_count": 113,
     "metadata": {},
     "output_type": "execute_result"
    }
   ],
   "source": [
    "r = inter - yhatSigmas\n",
    "chisq = sum((r / siginter)**2)\n",
    "chisq"
   ]
  },
  {
   "cell_type": "code",
   "execution_count": 114,
   "id": "04eba3a8-dbbc-42de-bebc-717388362986",
   "metadata": {},
   "outputs": [
    {
     "name": "stdout",
     "output_type": "stream",
     "text": [
      "0.16690763754866586\n",
      "0.9967055387310064\n"
     ]
    }
   ],
   "source": [
    "# python calcs weights\n",
    "import scipy.stats as st\n",
    "chi2 , p = st.chisquare(inter, yhat, ddof=len(inter)-5)\n",
    "print(chi2)\n",
    "print(p)"
   ]
  },
  {
   "cell_type": "code",
   "execution_count": 115,
   "id": "ef584406-f6cf-45ca-bf27-68c27da9482e",
   "metadata": {},
   "outputs": [
    {
     "name": "stdout",
     "output_type": "stream",
     "text": [
      "0.16439906286386757\n",
      "0.996801169013923\n"
     ]
    }
   ],
   "source": [
    "# give sigmas manually (IDL mygaussfit.pro)\n",
    "import scipy.stats as st\n",
    "chi2 , p = st.chisquare(inter, yhatSigmas, ddof=len(inter)-5)\n",
    "print(chi2)\n",
    "print(p)"
   ]
  },
  {
   "cell_type": "code",
   "execution_count": 116,
   "id": "0370c5c6-cde2-45b9-9044-e708f80f6e99",
   "metadata": {},
   "outputs": [
    {
     "data": {
      "text/plain": [
       "0.1888770076233047"
      ]
     },
     "execution_count": 116,
     "metadata": {},
     "output_type": "execute_result"
    }
   ],
   "source": [
    "sum(r**2)"
   ]
  },
  {
   "cell_type": "code",
   "execution_count": 117,
   "id": "ec9cb8c5-9771-49e4-b140-c093ce4048c4",
   "metadata": {},
   "outputs": [
    {
     "name": "stdout",
     "output_type": "stream",
     "text": [
      "chisq = 0.22675705451061026 df = 48\n"
     ]
    }
   ],
   "source": [
    "chisq = np.sum((r/siginter)**2)\n",
    "df = len(inter) - 2\n",
    "print(\"chisq =\",chisq,\"df =\",df)"
   ]
  },
  {
   "cell_type": "raw",
   "id": "775bbf77-cd0b-4e7f-8589-964ae8ec7f38",
   "metadata": {},
   "source": [
    "df = len(inter) - 5\n",
    "chisq = np.sum((r/siginter)**2)\n",
    "print(\"chisq =\",chisq,\"df =\",df)"
   ]
  },
  {
   "cell_type": "code",
   "execution_count": 118,
   "id": "0cf60d89-9628-49df-9391-41c0934b2258",
   "metadata": {},
   "outputs": [
    {
     "name": "stdout",
     "output_type": "stream",
     "text": [
      "50\n",
      "0.16690763754866586\n",
      "25\n"
     ]
    }
   ],
   "source": [
    "len(yhat)\n",
    "print(len(inter))\n",
    "chi2 = sum((inter-yhat)**2/yhat)\n",
    "print(chi2)\n",
    "print(len(sigtemp))\n"
   ]
  },
  {
   "cell_type": "code",
   "execution_count": 119,
   "id": "4fa9d7cb",
   "metadata": {},
   "outputs": [
    {
     "name": "stdout",
     "output_type": "stream",
     "text": [
      "<class 'numpy.ndarray'>\n",
      "<class 'numpy.ndarray'>\n"
     ]
    }
   ],
   "source": [
    "print(type(ytemp))\n",
    "print(type(inter))"
   ]
  },
  {
   "cell_type": "code",
   "execution_count": 120,
   "id": "d8ae4646-72a5-494d-9382-3098e52688d3",
   "metadata": {},
   "outputs": [
    {
     "data": {
      "text/plain": [
       "array([23.        , 23.22222222, 23.44444444, 23.66666667, 23.88888889,\n",
       "       24.11111111, 24.33333333, 24.55555556, 24.77777778, 25.        ])"
      ]
     },
     "execution_count": 120,
     "metadata": {},
     "output_type": "execute_result"
    }
   ],
   "source": [
    "np.linspace(23, 25, 10)"
   ]
  },
  {
   "cell_type": "code",
   "execution_count": 121,
   "id": "d55bff5e-2a0d-49cc-b8ea-f9bc01a6f7eb",
   "metadata": {},
   "outputs": [],
   "source": [
    "def nTerminos(nt):\n",
    "    if nt == 3:\n",
    "        i = emissAbsorb()\n",
    "        b = [ yd[i0], x[i0], abs(x[i0]-x[i0+i])]\n",
    "        function = gauss_funct3\n",
    "    \n",
    "    elif nt == 4:\n",
    "        i = emissAbsorb()\n",
    "        b = [ yd[i0], x[i0], abs(x[i0]-x[i0+i])]\n",
    "        b = np.append(b, c[2])\n",
    "        function = gauss_funct4\n",
    "                  \n",
    "    elif nt == 5:\n",
    "        i = emissAbsorb()\n",
    "        b = [ yd[i0], x[i0], abs(x[i0]-x[i0+i])]\n",
    "        b = np.append(b, c[2])\n",
    "        b = np.append(b, c[1])\n",
    "        function = gauss_funct5\n",
    "    \n",
    "    elif nt == 6:\n",
    "        i = emissAbsorb()\n",
    "        b = [ yd[i0], x[i0], abs(x[i0]-x[i0+i])]\n",
    "        b = np.append(b, c[2])\n",
    "        b = np.append(b, c[1])\n",
    "        b = np.append(b, c[0])\n",
    "        function = gauss_funct6\n",
    "    return function, b"
   ]
  },
  {
   "cell_type": "code",
   "execution_count": 122,
   "id": "5f1d7f7d",
   "metadata": {},
   "outputs": [],
   "source": [
    "def distanciasJ(j, lGauss):\n",
    "    l_gauss = lGauss\n",
    "    mfct=(tamano-l_gauss)/n_radios\n",
    "    cte1=floor(j*mfct)\n",
    "    #print('cte1 = ', cte1)\n",
    "    xt=x_tmp[cte1:l_gauss+cte1]\n",
    "    ytemp   =er_arr[j, cte1:l_gauss+cte1, 0]\n",
    "    sigtemp =er_arr[j, cte1:l_gauss+cte1, 1]\n",
    "    #INTERPOLATION\n",
    "    x_sal=(np.arange(l_gauss*2)+1)*(max(xt)-min(xt))/(l_gauss*2)+min(xt)\n",
    "    interpolFunction = interpolate.interp1d(xt, ytemp, kind='quadratic')#, bounds_error=False, fill_value='extrapolate')\n",
    "    inter=interpolFunction(x_sal)\n",
    "    siginterFunction = interpolate.interp1d(xt, sigtemp, kind='quadratic')#, bounds_error=False, fill_value='extrapolate')\n",
    "    siginter = siginterFunction(x_sal)\n",
    "    \n",
    "    return xt, x_sal, inter, ytemp, sigtemp, siginter\n"
   ]
  },
  {
   "cell_type": "code",
   "execution_count": 123,
   "id": "9779d499",
   "metadata": {},
   "outputs": [
    {
     "data": {
      "text/plain": [
       "25"
      ]
     },
     "execution_count": 123,
     "metadata": {},
     "output_type": "execute_result"
    }
   ],
   "source": [
    "l_gauss\n",
    "#cte1"
   ]
  },
  {
   "cell_type": "code",
   "execution_count": 124,
   "id": "5a5462f3-23ab-4c79-b771-6103a479d16d",
   "metadata": {},
   "outputs": [
    {
     "data": {
      "text/plain": [
       "array([ 4.79727307e-01,  5.57999951e+04,  3.59999848e+03, -4.23092964e+00,\n",
       "        1.99789466e-04])"
      ]
     },
     "execution_count": 124,
     "metadata": {},
     "output_type": "execute_result"
    }
   ],
   "source": [
    "a"
   ]
  },
  {
   "cell_type": "code",
   "execution_count": null,
   "id": "46edfce4-ea69-4268-9dbb-1338472b13cc",
   "metadata": {},
   "outputs": [],
   "source": []
  },
  {
   "cell_type": "code",
   "execution_count": 155,
   "id": "6d4027c1",
   "metadata": {},
   "outputs": [
    {
     "data": {
      "application/vnd.jupyter.widget-view+json": {
       "model_id": "df8e786f14fa4c46bfc850a6606c3952",
       "version_major": 2,
       "version_minor": 0
      },
      "text/plain": [
       "interactive(children=(IntSlider(value=75, description='j', max=95, step=5), IntSlider(value=5, description='nt…"
      ]
     },
     "metadata": {},
     "output_type": "display_data"
    },
    {
     "data": {
      "text/plain": [
       "<function __main__.ajusteGauss(j, nt, lGauss)>"
      ]
     },
     "execution_count": 155,
     "metadata": {},
     "output_type": "execute_result"
    }
   ],
   "source": [
    "def ajusteGauss(j, nt, lGauss): #ySigma #ySigmaNoErrorBars\n",
    "    xt, x_sal, inter, ytemp, sigtemp, siginter = distanciasJ(j, lGauss)\n",
    "    gauss_funct, parAM = nTerminos(nt)\n",
    "    fig = plt.figure(figsize=(14,5), frameon=False)\n",
    "    ax = fig.add_axes([0, 0, 1, 1])\n",
    "    #ax.errorbar(xt, ytemp, sigtemp, color='b', ecolor=\"#a1a1a1\", barsabove=True, elinewidth = 1,  capsize=2)    \n",
    "    #ax.errorbar(x_sal, inter, siginter, color='b', ecolor=\"#a1a1a1\", barsabove=True, elinewidth = 0.5,  capsize=4, linewidth=2)\n",
    "    ax.plot(x_sal, inter, linewidth=3, color='b')\n",
    "    popt2, pcov2 = curve_fit(gauss_funct, \n",
    "                     x_sal, \n",
    "                     inter, \n",
    "                     p0=parAM, \n",
    "                     sigma=siginter, \n",
    "                     absolute_sigma=True)\n",
    "        \n",
    "    yhatSigmas = gauss_funct(x_sal, *popt2)\n",
    "    ax.plot(x_sal, yhatSigmas, \"#1bfa50\", linewidth=2)\n",
    "    ax.set_facecolor('black')\n",
    "    uno = np.ones(len(x_sal))\n",
    "    #ax.plot(x_sal, popt2[0]+popt2[3]*uno, \"cyan\") #top en 4 terminos\n",
    "    normalizados = yhatSigmas/sum(yhatSigmas)*sum(inter)\n",
    "    fwhm = 2*np.sqrt(2*np.log(2))*popt2[2]\n",
    "    ax.plot(x_sal, normalizados, \"#1bfa50\", linewidth=1, linestyle=\"dashdot\")\n",
    "    plt.axvline(popt2[1]-fwhm/2, color=\"magenta\", linestyle=\"-\")\n",
    "    plt.axvline(popt2[1]+fwhm/2, color=\"magenta\", linestyle=\"-\")\n",
    "    plt.title(\"Gauss plot {}\".format(j))\n",
    "    plt.xlabel(\"Tiempo en segundos\")\n",
    "    #plt.xlim((30000,70000))\n",
    "    #plt.ylim((0,4.2))\n",
    "    plt.axvline(popt2[1], color=\"#ff8c00\", linestyle=\"--\")\n",
    "    plt.axvline(popt2[1]-popt2[2], color=\"cyan\", linestyle=\"--\")\n",
    "    plt.axvline(popt2[1]+popt2[2], color=\"cyan\", linestyle=\":\")\n",
    "    plt.show()\n",
    "    conteoA = 0\n",
    "    for i in popt2:\n",
    "        print(\"A{} =\".format(conteoA), i)\n",
    "        conteoA+=1\n",
    "    print('fwhm =', fwhm)\n",
    "    chi2 , p = st.chisquare(inter, normalizados, ddof=len(inter)-nt)\n",
    "    print(\"chisq =\",chi2)\n",
    "    print(\"p =\", p)\n",
    "\n",
    "interact(ajusteGauss,\n",
    "         j = widgets.IntSlider(min=0, max=95, step=5, value=75),\n",
    "         nt  = widgets.IntSlider(min=3,max=6,step=1, value=5),\n",
    "         #ySigmaNoErrorBars = widgets.Checkbox(value=False,description='Use python fit',disabled=False,indent=False),\n",
    "         #ySigma = widgets.Checkbox(value=True,description='Use IDL fit (give standar deviations)',disabled=False,indent=False),\n",
    "         lGauss = widgets.IntSlider(min=10, max=30, step=1, value=16)\n",
    ")"
   ]
  },
  {
   "cell_type": "code",
   "execution_count": 126,
   "id": "c61cf174-c6d8-4445-a426-da9c65568e8b",
   "metadata": {},
   "outputs": [
    {
     "name": "stdout",
     "output_type": "stream",
     "text": [
      "3.0\n",
      "3.6\n",
      "4.2\n",
      "4.8\n",
      "5.4\n",
      "6.0\n",
      "6.6\n",
      "7.2\n",
      "7.8\n",
      "8.399999999999999\n",
      "9.0\n",
      "9.6\n",
      "10.2\n",
      "10.8\n",
      "11.4\n",
      "12.0\n",
      "12.6\n",
      "13.2\n",
      "13.799999999999999\n",
      "14.4\n",
      "15.0\n"
     ]
    }
   ],
   "source": [
    "for i in np.linspace(3.0,15.0,21):\n",
    "    print(i)"
   ]
  },
  {
   "cell_type": "code",
   "execution_count": 127,
   "id": "55073aae-19fe-4ecb-b93c-ed1309ba2020",
   "metadata": {},
   "outputs": [
    {
     "data": {
      "text/plain": [
       "25"
      ]
     },
     "execution_count": 127,
     "metadata": {},
     "output_type": "execute_result"
    }
   ],
   "source": [
    "len(ytemp)"
   ]
  },
  {
   "cell_type": "code",
   "execution_count": 128,
   "id": "1432805a",
   "metadata": {},
   "outputs": [
    {
     "data": {
      "text/plain": [
       "25"
      ]
     },
     "execution_count": 128,
     "metadata": {},
     "output_type": "execute_result"
    }
   ],
   "source": [
    "len(xt)"
   ]
  },
  {
   "cell_type": "code",
   "execution_count": 129,
   "id": "93976028-f223-4ceb-a298-fda74614b960",
   "metadata": {},
   "outputs": [],
   "source": [
    "tiempos_pa81_del1 = np.array([29992.78312,\n",
    "32910.60362,\n",
    "36317.31544,\n",
    "40177.05851,\n",
    "42796.87424,\n",
    "45538.07118,\n",
    "48585.85294,\n",
    "50831.19193,\n",
    "53427.22766,\n",
    "55257.36514,\n",
    "56780.61083,\n",
    "58292.61755,\n",
    "59934.55525,\n",
    "61480.96991,\n",
    "63091.37073,\n",
    "64469.17232,\n",
    "65412.38759,\n",
    "67503.86652,\n",
    "69519.98747,\n",
    "70362.92686])"
   ]
  },
  {
   "cell_type": "code",
   "execution_count": 130,
   "id": "71b5003a-8172-4f1c-9b31-00b667de91ec",
   "metadata": {},
   "outputs": [],
   "source": [
    "distKmts=np.array([2087100,\n",
    "2504520,\n",
    "2921940,\n",
    "3339360,\n",
    "3756780,\n",
    "4174200,\n",
    "4591620,\n",
    "5009040,\n",
    "5426460,\n",
    "5843880,\n",
    "6261300,\n",
    "6678720,\n",
    "7096140,\n",
    "7513560,\n",
    "7930980,\n",
    "8348400,\n",
    "8765820,\n",
    "9183240,\n",
    "9600660,\n",
    "10018080])"
   ]
  },
  {
   "cell_type": "code",
   "execution_count": 131,
   "id": "e0701c71-8158-4d91-9468-6d51c828175e",
   "metadata": {},
   "outputs": [
    {
     "data": {
      "image/png": "[encoded data removed]",
      "text/plain": [
       "<Figure size 432x288 with 1 Axes>"
      ]
     },
     "metadata": {
      "needs_background": "light"
     },
     "output_type": "display_data"
    }
   ],
   "source": [
    "plt.plot(tiempos_pa81_del1, distKmts)\n",
    "plt.ylabel(\"kilometros\")\n",
    "plt.xlabel(\"segundos\")\n",
    "plt.show()"
   ]
  },
  {
   "cell_type": "code",
   "execution_count": 132,
   "id": "12e77c39-61c5-4d21-9846-9cd8e2b24d48",
   "metadata": {},
   "outputs": [
    {
     "data": {
      "image/png": "[encoded data removed]",
      "text/plain": [
       "<Figure size 1152x360 with 1 Axes>"
      ]
     },
     "metadata": {
      "needs_background": "light"
     },
     "output_type": "display_data"
    }
   ],
   "source": [
    "a,b = np.polyfit(tiempos_pa81_del1, distKmts, deg=1)\n",
    "fig, ax = plt.subplots()\n",
    "ax.plot(tiempos_pa81_del1, distKmts, marker='o')\n",
    "plt.ylabel(\"kilometros\")\n",
    "plt.xlabel(\"segundos\")\n",
    "ax.plot(tiempos_pa81_del1, a*tiempos_pa81_del1 + b)\n",
    "fig.set_size_inches(16,5)\n",
    "plt.show()"
   ]
  },
  {
   "cell_type": "code",
   "execution_count": 133,
   "id": "aac5f641-53aa-41a6-9d92-ff4c1eb03368",
   "metadata": {},
   "outputs": [
    {
     "data": {
      "image/png": "[encoded data removed]",
      "text/plain": [
       "<Figure size 432x288 with 1 Axes>"
      ]
     },
     "metadata": {
      "needs_background": "light"
     },
     "output_type": "display_data"
    }
   ],
   "source": [
    "a,b = np.polyfit(distKmts, tiempos_pa81_del1, deg=1)\n",
    "plt.plot(distKmts, tiempos_pa81_del1)\n",
    "plt.ylabel(\"segundos\")\n",
    "plt.xlabel(\"kilometros\")\n",
    "plt.plot(distKmts, a*distKmts + b)\n",
    "#\n",
    "plt.show()"
   ]
  },
  {
   "cell_type": "code",
   "execution_count": 134,
   "id": "1956d6c9-2ed3-4546-ba73-e1663436ed99",
   "metadata": {},
   "outputs": [
    {
     "data": {
      "text/plain": [
       "0.004923777797105237"
      ]
     },
     "execution_count": 134,
     "metadata": {},
     "output_type": "execute_result"
    }
   ],
   "source": [
    "a"
   ]
  },
  {
   "cell_type": "code",
   "execution_count": null,
   "id": "b2e6a488-4f4c-45bd-b0d8-dbd7115ee3db",
   "metadata": {},
   "outputs": [],
   "source": []
  },
  {
   "cell_type": "code",
   "execution_count": null,
   "id": "5c528550-9c70-4183-ac80-6ff0a7c16799",
   "metadata": {},
   "outputs": [],
   "source": []
  }
 ],
 "metadata": {
  "interpreter": {
   "hash": "e804dfdd211e6cfb578a06a2d0bb93b622179b69b2f681471fdbd789c336c71b"
  },
  "kernelspec": {
   "display_name": "Python 3",
   "language": "python",
   "name": "python3"
  },
  "language_info": {
   "codemirror_mode": {
    "name": "ipython",
    "version": 3
   },
   "file_extension": ".py",
   "mimetype": "text/x-python",
   "name": "python",
   "nbconvert_exporter": "python",
   "pygments_lexer": "ipython3",
   "version": "3.9.12"
  },
  "widgets": {
   "application/vnd.jupyter.widget-state+json": {
    "state": {},
    "version_major": 2,
    "version_minor": 0
   }
  }
 },
 "nbformat": 4,
 "nbformat_minor": 5
}
